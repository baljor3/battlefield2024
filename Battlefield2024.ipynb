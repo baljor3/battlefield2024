{
 "cells": [
  {
   "cell_type": "code",
   "execution_count": 39,
   "id": "0362903e",
   "metadata": {},
   "outputs": [],
   "source": [
    "from bs4 import BeautifulSoup as bs\n",
    "import selenium\n",
    "from selenium import webdriver\n",
    "import time\n",
    "from selenium.webdriver.common.by import By\n",
    "import steam_review_scraper \n",
    "import requests\n",
    "from datetime import datetime as dt\n",
    "import pandas as pd\n",
    "from steam_review_scraper import get_game_review \n",
    "import pickle\n",
    "import steamreviews"
   ]
  },
  {
   "cell_type": "code",
   "execution_count": null,
   "id": "91e2cb4b",
   "metadata": {},
   "outputs": [],
   "source": [
    "#https://steamcommunity.com/app/1517290/reviews/?browsefilter=mostrecent&snr=1_5_100010_&p=1 steam website\n",
    "driver = webdriver.Chrome(\"chromedriver.exe\") \n",
    "driver.get(\"https://steamcommunity.com/app/1517290/reviews/?browsefilter=mostrecent&snr=1_5_100010_&p=1\")#navgiate to website\n",
    "time.sleep(1)\n",
    "element=driver.find_element(By.CLASS_NAME,\"btn_grey_white_innerfade\") # find element\n",
    "element.click() #click on element"
   ]
  },
  {
   "cell_type": "code",
   "execution_count": null,
   "id": "aaa5d5b7",
   "metadata": {},
   "outputs": [],
   "source": [
    "#open drop down list for review ratings\n",
    "element= driver.find_element(By.CLASS_NAME, \"user_reviews_rating_filter\")\n",
    "element.click()"
   ]
  },
  {
   "cell_type": "code",
   "execution_count": null,
   "id": "8da8cd6b",
   "metadata": {},
   "outputs": [],
   "source": [
    "#click on positive reviews only\n",
    "driver.find_element(By.ID,\"filterrating_option_1\").click()"
   ]
  },
  {
   "cell_type": "code",
   "execution_count": null,
   "id": "c5d48591",
   "metadata": {},
   "outputs": [],
   "source": [
    "pre_scroll_height = driver.execute_script('return document.body.scrollHeight;')\n",
    "run_time, max_run_time = 0, 2 \n",
    "\n",
    "while True:\n",
    "    iteration_start = time.time() #start time\n",
    "    driver.execute_script('window.scrollTo(0, 100*document.body.scrollHeight);') # scroll to the end of the page\n",
    "\n",
    "    post_scroll_height = driver.execute_script('return document.body.scrollHeight;') #retrun the height of the page after scrolling\n",
    "\n",
    "    scrolled = post_scroll_height != pre_scroll_height #to check if post scroll and pre scroll height are the same\n",
    "    timed_out = run_time >= max_run_time #time does not go over 2 seconds when loading page\n",
    "\n",
    "    if scrolled:\n",
    "        run_time = 0 \n",
    "        pre_scroll_height = post_scroll_height\n",
    "    elif not scrolled and not timed_out:\n",
    "         run_time += time.time() - iteration_start\n",
    "    elif not scrolled and timed_out:\n",
    "         break\n",
    "    try:\n",
    "        element = driver.find_element(By.ID,\"GetMoreContentBtn\")\n",
    "        element.click()\n",
    "    except:\n",
    "        continue"
   ]
  },
  {
   "cell_type": "code",
   "execution_count": null,
   "id": "16c149ac",
   "metadata": {},
   "outputs": [],
   "source": [
    "#scrape date from loaded website\n",
    "soup = bs(driver.page_source, \"lxml\")"
   ]
  },
  {
   "cell_type": "code",
   "execution_count": null,
   "id": "bd204728",
   "metadata": {},
   "outputs": [],
   "source": [
    "#write the website content to a local file\n",
    "with open(\"output1.html\", \"w\", encoding='utf-8') as file:\n",
    "    file.write(str(soup))"
   ]
  },
  {
   "cell_type": "code",
   "execution_count": null,
   "id": "9155fbdc",
   "metadata": {},
   "outputs": [],
   "source": [
    "#open drop down list for review ratings\n",
    "element= driver.find_element(By.CLASS_NAME, \"user_reviews_rating_filter\")\n",
    "element.click()"
   ]
  },
  {
   "cell_type": "code",
   "execution_count": null,
   "id": "a9308a32",
   "metadata": {},
   "outputs": [],
   "source": [
    "#click on negative reviews only\n",
    "driver.find_element(By.ID,\"filterrating_option_2\").click()"
   ]
  },
  {
   "cell_type": "code",
   "execution_count": null,
   "id": "48c86722",
   "metadata": {},
   "outputs": [],
   "source": [
    "pre_scroll_height = driver.execute_script('return document.body.scrollHeight;')\n",
    "run_time, max_run_time = 0, 2 \n",
    "\n",
    "while True:\n",
    "    iteration_start = time.time() #start time\n",
    "    driver.execute_script('window.scrollTo(0, 100*document.body.scrollHeight);') # scroll to the end of the page\n",
    "\n",
    "    post_scroll_height = driver.execute_script('return document.body.scrollHeight;') #retrun the height of the page after scrolling\n",
    "\n",
    "    scrolled = post_scroll_height != pre_scroll_height #to check if post scroll and pre scroll height are the same\n",
    "    timed_out = run_time >= max_run_time #time does not go over 2 seconds when loading page\n",
    "\n",
    "    if scrolled:\n",
    "        run_time = 0 \n",
    "        pre_scroll_height = post_scroll_height\n",
    "    elif not scrolled and not timed_out:\n",
    "         run_time += time.time() - iteration_start\n",
    "    elif not scrolled and timed_out:\n",
    "         break\n",
    "    try:\n",
    "        element = driver.find_element(By.ID,\"GetMoreContentBtn\")\n",
    "        element.click()\n",
    "    except:\n",
    "        continue"
   ]
  },
  {
   "cell_type": "code",
   "execution_count": null,
   "id": "c9c22ee2",
   "metadata": {},
   "outputs": [],
   "source": [
    "#scrape date from loaded website\n",
    "soup = bs(driver.page_source, \"lxml\")"
   ]
  },
  {
   "cell_type": "code",
   "execution_count": null,
   "id": "e457fe85",
   "metadata": {},
   "outputs": [],
   "source": [
    "#write the website content to a local file\n",
    "with open(\"output1.html\", \"w\", encoding='utf-8') as file:\n",
    "    file.write(str(soup))"
   ]
  },
  {
   "cell_type": "code",
   "execution_count": 33,
   "id": "b53fe9be",
   "metadata": {},
   "outputs": [],
   "source": [
    "#open local hmtl file which contains all postive reviews\n",
    "HTMLFileToBeOpened = open(\"output1.html\", \"r\",encoding=\"utf8\")\n",
    "contents = HTMLFileToBeOpened.read()\n",
    "beautifulSoupText = bs(contents, 'lxml')"
   ]
  },
  {
   "cell_type": "code",
   "execution_count": 37,
   "id": "2d380523",
   "metadata": {},
   "outputs": [
    {
     "data": {
      "text/plain": [
       "<div class=\"apphub_UserReviewCardContent\">\n",
       "<div class=\"found_helpful\">\n",
       "\t\t\t\tNo one has rated this review as helpful yet\t\t\t\t<div class=\"review_award_aggregated tooltip\" data-tooltip-class=\"review_reward_tooltip\" data-tooltip-html='&lt;div class=\"review_award_ctn_hover\"&gt;This item has no awards&lt;/div&gt;'><img class=\"reward_btn_icon\" src=\"https://community.akamai.steamstatic.com/public/shared/images//award_icon_blue.svg\"/>0</div>\n",
       "</div>\n",
       "<div class=\"vote_header\">\n",
       "<div class=\"reviewInfo\">\n",
       "<div class=\"thumb\">\n",
       "<img height=\"44\" src=\"https://community.akamai.steamstatic.com/public/shared/images/userreviews/icon_thumbsUp.png?v=1\" width=\"44\"/>\n",
       "</div>\n",
       "<div class=\"title\">Recommended</div>\n",
       "<div class=\"hours\">1.0 hrs on record</div>\n",
       "</div>\n",
       "<div style=\"clear: left\"></div>\n",
       "</div>\n",
       "<div class=\"apphub_CardTextContent\">\n",
       "<div class=\"date_posted\">Posted: 27 January</div>\n",
       "\t\t\t\t\t\t\t\t\t\t\t\t\t\t\t\tsurprisingly good! Shields are OP :) one hit kill LOL\t\t\t</div>\n",
       "</div>"
      ]
     },
     "execution_count": 37,
     "metadata": {},
     "output_type": "execute_result"
    }
   ],
   "source": [
    "beautifulSoupText.find_all(\"div\", {\"class\": \"apphub_UserReviewCardContent\"})[1]"
   ]
  },
  {
   "cell_type": "code",
   "execution_count": null,
   "id": "86194246",
   "metadata": {},
   "outputs": [],
   "source": [
    "with open(\"output2.html\", \"w\", encoding='utf-8') as file:\n",
    "    file.write(str(soup))"
   ]
  },
  {
   "cell_type": "code",
   "execution_count": 17,
   "id": "b34cbb33",
   "metadata": {},
   "outputs": [],
   "source": [
    "#open local file\n",
    "HTMLFileToBeOpened = open(\"output2.html\", \"r\",encoding=\"utf8\")\n",
    "contents = HTMLFileToBeOpened.read()\n",
    "beautifulSoupText = bs(contents, 'lxml')"
   ]
  },
  {
   "cell_type": "code",
   "execution_count": 32,
   "id": "a7470765",
   "metadata": {},
   "outputs": [
    {
     "data": {
      "text/plain": [
       "<div class=\"apphub_CardTextContent\">\n",
       "<div class=\"date_posted\">Posted: December 18, 2021</div>\n",
       "\t\t\t\t\t\t\t\t\t\t\t\t\t\t\t\tThe game is honestly really fun, the guns feel great, and the classes all feel refreshing. The only issue is the stability of the game, and how getting hit with a car can crash your game. I'd hold out until the game is more polished.\t\t\t</div>"
      ]
     },
     "execution_count": 32,
     "metadata": {},
     "output_type": "execute_result"
    }
   ],
   "source": [
    "beautifulSoupText.find_all(\"div\", {\"class\": \"apphub_CardTextContent\"})[25449]"
   ]
  },
  {
   "cell_type": "code",
   "execution_count": 41,
   "id": "9c21c472",
   "metadata": {},
   "outputs": [
    {
     "data": {
      "text/plain": [
       "28.703703703703702"
      ]
     },
     "execution_count": 41,
     "metadata": {},
     "output_type": "execute_result"
    }
   ],
   "source": [
    "(((50000/150)*310)/60)/60"
   ]
  },
  {
   "cell_type": "code",
   "execution_count": null,
   "id": "e7c1ab06",
   "metadata": {},
   "outputs": [],
   "source": []
  }
 ],
 "metadata": {
  "kernelspec": {
   "display_name": "Python 3 (ipykernel)",
   "language": "python",
   "name": "python3"
  },
  "language_info": {
   "codemirror_mode": {
    "name": "ipython",
    "version": 3
   },
   "file_extension": ".py",
   "mimetype": "text/x-python",
   "name": "python",
   "nbconvert_exporter": "python",
   "pygments_lexer": "ipython3",
   "version": "3.10.8"
  }
 },
 "nbformat": 4,
 "nbformat_minor": 5
}
