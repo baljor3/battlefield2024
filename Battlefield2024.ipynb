{
 "cells": [
  {
   "cell_type": "code",
   "execution_count": 17,
   "id": "0362903e",
   "metadata": {},
   "outputs": [],
   "source": [
    "from bs4 import BeautifulSoup as bs\n",
    "import selenium\n",
    "from selenium import webdriver\n",
    "from selenium.webdriver.common.by import By"
   ]
  },
  {
   "cell_type": "code",
   "execution_count": 6,
   "id": "91e2cb4b",
   "metadata": {},
   "outputs": [
    {
     "name": "stderr",
     "output_type": "stream",
     "text": [
      "C:\\Users\\bobby\\AppData\\Local\\Temp\\ipykernel_26964\\1529711763.py:2: DeprecationWarning: executable_path has been deprecated, please pass in a Service object\n",
      "  driver = webdriver.Chrome(\"chromedriver.exe\")\n"
     ]
    }
   ],
   "source": [
    "#https://steamcommunity.com/app/1517290/reviews/?browsefilter=mostrecent&snr=1_5_100010_&p=1 steam website\n",
    "driver = webdriver.Chrome(\"chromedriver.exe\")\n",
    "driver.get(\"https://steamcommunity.com/app/1517290/reviews/?browsefilter=mostrecent&snr=1_5_100010_&p=1\")\n",
    "system.wait(1)\n",
    "element=driver.find_element(By.CLASS_NAME,\"btn_grey_white_innerfade\")\n",
    "element.click()"
   ]
  },
  {
   "cell_type": "code",
   "execution_count": 25,
   "id": "090fe932",
   "metadata": {},
   "outputs": [],
   "source": [
    "driver.execute_script(\"window.scrollTo(0, document.body.scrollHeight);\")"
   ]
  },
  {
   "cell_type": "code",
   "execution_count": 18,
   "id": "16c149ac",
   "metadata": {},
   "outputs": [],
   "source": [
    "soup = bs(driver.page_source, \"lxml\")"
   ]
  },
  {
   "cell_type": "code",
   "execution_count": 21,
   "id": "2973851d",
   "metadata": {},
   "outputs": [
    {
     "data": {
      "text/plain": [
       "<div class=\"apphub_UserReviewCardContent\">\n",
       "<div class=\"found_helpful\">\n",
       "\t\t\t\tNo one has rated this review as helpful yet\t\t\t\t<div class=\"review_award_aggregated tooltip\" data-tooltip-class=\"review_reward_tooltip\" data-tooltip-html='&lt;div class=\"review_award_ctn_hover\"&gt;This item has no awards&lt;/div&gt;'><img class=\"reward_btn_icon\" src=\"https://community.akamai.steamstatic.com/public/shared/images//award_icon_blue.svg\"/>0</div>\n",
       "</div>\n",
       "<div class=\"vote_header\">\n",
       "<div class=\"reviewInfo\">\n",
       "<div class=\"thumb\">\n",
       "<img height=\"44\" src=\"https://community.akamai.steamstatic.com/public/shared/images/userreviews/icon_thumbsUp.png?v=1\" width=\"44\"/>\n",
       "</div>\n",
       "<div class=\"title\">Recommended</div>\n",
       "<div class=\"hours\">83.6 hrs on record</div>\n",
       "</div>\n",
       "<div style=\"clear: left\"></div>\n",
       "</div>\n",
       "<div class=\"apphub_CardTextContent\">\n",
       "<div class=\"date_posted\">Posted: 24 January</div>\n",
       "\t\t\t\t\t\t\t\t\t\t\t\t\t\t\t\tcouple bugs but is good overall!!!\t\t\t</div>\n",
       "</div>"
      ]
     },
     "execution_count": 21,
     "metadata": {},
     "output_type": "execute_result"
    }
   ],
   "source": [
    "soup.find_all(\"div\",{\"class\":\"apphub_UserReviewCardContent\"})[1]"
   ]
  },
  {
   "cell_type": "code",
   "execution_count": null,
   "id": "40e46665",
   "metadata": {},
   "outputs": [],
   "source": [
    "# Get scroll height\n",
    "last_height = driver.execute_script(\"return document.body.scrollHeight\")\n",
    "\n",
    "while True:\n",
    "    # Scroll down to bottom\n",
    "    driver.execute_script(\"window.scrollTo(0, document.body.scrollHeight);\")\n",
    "\n",
    "    # Wait to load page\n",
    "    time.sleep(SCROLL_PAUSE_TIME)\n",
    "\n",
    "    # Calculate new scroll height and compare with last scroll height\n",
    "    new_height = driver.execute_script(\"return document.body.scrollHeight\")\n",
    "    if new_height == last_height:\n",
    "        break\n",
    "    last_height = new_height"
   ]
  }
 ],
 "metadata": {
  "kernelspec": {
   "display_name": "Python 3 (ipykernel)",
   "language": "python",
   "name": "python3"
  },
  "language_info": {
   "codemirror_mode": {
    "name": "ipython",
    "version": 3
   },
   "file_extension": ".py",
   "mimetype": "text/x-python",
   "name": "python",
   "nbconvert_exporter": "python",
   "pygments_lexer": "ipython3",
   "version": "3.10.8"
  }
 },
 "nbformat": 4,
 "nbformat_minor": 5
}
