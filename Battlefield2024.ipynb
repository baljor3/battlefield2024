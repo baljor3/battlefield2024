{
 "cells": [
  {
   "cell_type": "code",
   "execution_count": 31,
   "id": "0362903e",
   "metadata": {},
   "outputs": [],
   "source": [
    "from bs4 import BeautifulSoup as bs\n",
    "import selenium\n",
    "from selenium import webdriver\n",
    "import time\n",
    "from selenium.webdriver.common.by import By\n",
    "import steam_review_scraper \n",
    "import requests\n",
    "from datetime import datetime as dt\n",
    "import pandas as pd\n",
    "from steam_review_scraper import get_game_review \n",
    "import pickle\n",
    "import steamreviews\n",
    "import re"
   ]
  },
  {
   "cell_type": "code",
   "execution_count": null,
   "id": "91e2cb4b",
   "metadata": {},
   "outputs": [],
   "source": [
    "#https://steamcommunity.com/app/1517290/reviews/?browsefilter=mostrecent&snr=1_5_100010_&p=1 steam website\n",
    "driver = webdriver.Chrome(\"chromedriver.exe\") \n",
    "driver.get(\"https://steamcommunity.com/app/1517290/reviews/?browsefilter=mostrecent&snr=1_5_100010_&p=1\")#navgiate to website\n",
    "time.sleep(1)\n",
    "element=driver.find_element(By.CLASS_NAME,\"btn_grey_white_innerfade\") # find element\n",
    "element.click() #click on element"
   ]
  },
  {
   "cell_type": "code",
   "execution_count": null,
   "id": "aaa5d5b7",
   "metadata": {},
   "outputs": [],
   "source": [
    "#open drop down list for review ratings\n",
    "element= driver.find_element(By.CLASS_NAME, \"user_reviews_rating_filter\")\n",
    "element.click()"
   ]
  },
  {
   "cell_type": "code",
   "execution_count": null,
   "id": "8da8cd6b",
   "metadata": {},
   "outputs": [],
   "source": [
    "#click on positive reviews only\n",
    "driver.find_element(By.ID,\"filterrating_option_1\").click()"
   ]
  },
  {
   "cell_type": "code",
   "execution_count": null,
   "id": "c5d48591",
   "metadata": {},
   "outputs": [],
   "source": [
    "pre_scroll_height = driver.execute_script('return document.body.scrollHeight;')\n",
    "run_time, max_run_time = 0, 2 \n",
    "\n",
    "while True:\n",
    "    iteration_start = time.time() #start time\n",
    "    driver.execute_script('window.scrollTo(0, 100*document.body.scrollHeight);') # scroll to the end of the page\n",
    "\n",
    "    post_scroll_height = driver.execute_script('return document.body.scrollHeight;') #retrun the height of the page after scrolling\n",
    "\n",
    "    scrolled = post_scroll_height != pre_scroll_height #to check if post scroll and pre scroll height are the same\n",
    "    timed_out = run_time >= max_run_time #time does not go over 2 seconds when loading page\n",
    "\n",
    "    if scrolled:\n",
    "        run_time = 0 \n",
    "        pre_scroll_height = post_scroll_height\n",
    "    elif not scrolled and not timed_out:\n",
    "         run_time += time.time() - iteration_start\n",
    "    elif not scrolled and timed_out:\n",
    "         break\n",
    "    try:\n",
    "        element = driver.find_element(By.ID,\"GetMoreContentBtn\")\n",
    "        element.click()\n",
    "    except:\n",
    "        continue"
   ]
  },
  {
   "cell_type": "code",
   "execution_count": null,
   "id": "16c149ac",
   "metadata": {},
   "outputs": [],
   "source": [
    "#scrape date from loaded website\n",
    "soup = bs(driver.page_source, \"lxml\")"
   ]
  },
  {
   "cell_type": "code",
   "execution_count": null,
   "id": "bd204728",
   "metadata": {},
   "outputs": [],
   "source": [
    "#write the website content to a local file\n",
    "#with open(\"output1.html\", \"w\", encoding='utf-8') as file:\n",
    "#    file.write(str(soup))"
   ]
  },
  {
   "cell_type": "code",
   "execution_count": null,
   "id": "9155fbdc",
   "metadata": {},
   "outputs": [],
   "source": [
    "#open drop down list for review ratings\n",
    "element= driver.find_element(By.CLASS_NAME, \"user_reviews_rating_filter\")\n",
    "element.click()"
   ]
  },
  {
   "cell_type": "code",
   "execution_count": null,
   "id": "a9308a32",
   "metadata": {},
   "outputs": [],
   "source": [
    "#click on negative reviews only\n",
    "driver.find_element(By.ID,\"filterrating_option_2\").click()"
   ]
  },
  {
   "cell_type": "code",
   "execution_count": null,
   "id": "48c86722",
   "metadata": {},
   "outputs": [],
   "source": [
    "pre_scroll_height = driver.execute_script('return document.body.scrollHeight;')\n",
    "run_time, max_run_time = 0, 2 \n",
    "\n",
    "while True:\n",
    "    iteration_start = time.time() #start time\n",
    "    driver.execute_script('window.scrollTo(0, 100*document.body.scrollHeight);') # scroll to the end of the page\n",
    "\n",
    "    post_scroll_height = driver.execute_script('return document.body.scrollHeight;') #retrun the height of the page after scrolling\n",
    "\n",
    "    scrolled = post_scroll_height != pre_scroll_height #to check if post scroll and pre scroll height are the same\n",
    "    timed_out = run_time >= max_run_time #time does not go over 2 seconds when loading page\n",
    "\n",
    "    if scrolled:\n",
    "        run_time = 0 \n",
    "        pre_scroll_height = post_scroll_height\n",
    "    elif not scrolled and not timed_out:\n",
    "         run_time += time.time() - iteration_start\n",
    "    elif not scrolled and timed_out:\n",
    "         break\n",
    "    try:\n",
    "        element = driver.find_element(By.ID,\"GetMoreContentBtn\")\n",
    "        element.click()\n",
    "    except:\n",
    "        continue"
   ]
  },
  {
   "cell_type": "code",
   "execution_count": null,
   "id": "c9c22ee2",
   "metadata": {},
   "outputs": [],
   "source": [
    "#scrape date from loaded website\n",
    "soup = bs(driver.page_source, \"lxml\")"
   ]
  },
  {
   "cell_type": "code",
   "execution_count": null,
   "id": "e457fe85",
   "metadata": {},
   "outputs": [],
   "source": [
    "#write the website content to a local file\n",
    "#with open(\"output1.html\", \"w\", encoding='utf-8') as file:\n",
    "#   file.write(str(soup))"
   ]
  },
  {
   "cell_type": "code",
   "execution_count": 2,
   "id": "b53fe9be",
   "metadata": {},
   "outputs": [],
   "source": [
    "#open local hmtl file which contains all postive reviews\n",
    "HTMLFileToBeOpened = open(\"output1.html\", \"r\",encoding=\"utf8\")\n",
    "contents = HTMLFileToBeOpened.read()\n",
    "beautifulSoupText = bs(contents, 'lxml')"
   ]
  },
  {
   "cell_type": "code",
   "execution_count": 97,
   "id": "74750c7d",
   "metadata": {},
   "outputs": [],
   "source": [
    "columns = [\"helpful\",\"recommendations\",\"hours\",\"review\",\"date\"]\n",
    "BFReivews=pd.DataFrame(columns=columns)\n",
    "temp = pd.DataFrame(columns =columns,index =range(1))"
   ]
  },
  {
   "cell_type": "code",
   "execution_count": 30,
   "id": "c83e24dd",
   "metadata": {},
   "outputs": [
    {
     "ename": "KeyboardInterrupt",
     "evalue": "",
     "output_type": "error",
     "traceback": [
      "\u001b[1;31m---------------------------------------------------------------------------\u001b[0m",
      "\u001b[1;31mKeyboardInterrupt\u001b[0m                         Traceback (most recent call last)",
      "Input \u001b[1;32mIn [30]\u001b[0m, in \u001b[0;36m<cell line: 1>\u001b[1;34m()\u001b[0m\n\u001b[1;32m----> 1\u001b[0m numberofpostiveReviews\u001b[38;5;241m=\u001b[39m\u001b[38;5;28mlen\u001b[39m(\u001b[43mbeautifulSoupText\u001b[49m\u001b[38;5;241;43m.\u001b[39;49m\u001b[43mfind_all\u001b[49m\u001b[43m(\u001b[49m\u001b[38;5;124;43m\"\u001b[39;49m\u001b[38;5;124;43mdiv\u001b[39;49m\u001b[38;5;124;43m\"\u001b[39;49m\u001b[43m,\u001b[49m\u001b[43m \u001b[49m\u001b[43m{\u001b[49m\u001b[38;5;124;43m\"\u001b[39;49m\u001b[38;5;124;43mclass\u001b[39;49m\u001b[38;5;124;43m\"\u001b[39;49m\u001b[43m:\u001b[49m\u001b[43m \u001b[49m\u001b[38;5;124;43m\"\u001b[39;49m\u001b[38;5;124;43mapphub_UserReviewCardContent\u001b[39;49m\u001b[38;5;124;43m\"\u001b[39;49m\u001b[43m}\u001b[49m\u001b[43m)\u001b[49m)\n\u001b[0;32m      2\u001b[0m \u001b[38;5;28;01mfor\u001b[39;00m i \u001b[38;5;129;01min\u001b[39;00m \u001b[38;5;28mrange\u001b[39m(numberofpostiveReviews):\n\u001b[0;32m      3\u001b[0m     j \u001b[38;5;241m=\u001b[39m beautifulSoupText\u001b[38;5;241m.\u001b[39mfind_all(\u001b[38;5;124m\"\u001b[39m\u001b[38;5;124mdiv\u001b[39m\u001b[38;5;124m\"\u001b[39m, {\u001b[38;5;124m\"\u001b[39m\u001b[38;5;124mclass\u001b[39m\u001b[38;5;124m\"\u001b[39m: \u001b[38;5;124m\"\u001b[39m\u001b[38;5;124mapphub_UserReviewCardContent\u001b[39m\u001b[38;5;124m\"\u001b[39m})[i]\n",
      "File \u001b[1;32m~\\AppData\\Local\\Packages\\PythonSoftwareFoundation.Python.3.10_qbz5n2kfra8p0\\LocalCache\\local-packages\\Python310\\site-packages\\bs4\\element.py:1892\u001b[0m, in \u001b[0;36mTag.find_all\u001b[1;34m(self, name, attrs, recursive, string, limit, **kwargs)\u001b[0m\n\u001b[0;32m   1890\u001b[0m \u001b[38;5;28;01mif\u001b[39;00m \u001b[38;5;129;01mnot\u001b[39;00m recursive:\n\u001b[0;32m   1891\u001b[0m     generator \u001b[38;5;241m=\u001b[39m \u001b[38;5;28mself\u001b[39m\u001b[38;5;241m.\u001b[39mchildren\n\u001b[1;32m-> 1892\u001b[0m \u001b[38;5;28;01mreturn\u001b[39;00m \u001b[38;5;28mself\u001b[39m\u001b[38;5;241m.\u001b[39m_find_all(name, attrs, string, limit, generator, \u001b[38;5;241m*\u001b[39m\u001b[38;5;241m*\u001b[39mkwargs)\n",
      "File \u001b[1;32m~\\AppData\\Local\\Packages\\PythonSoftwareFoundation.Python.3.10_qbz5n2kfra8p0\\LocalCache\\local-packages\\Python310\\site-packages\\bs4\\element.py:827\u001b[0m, in \u001b[0;36mPageElement._find_all\u001b[1;34m(self, name, attrs, string, limit, generator, **kwargs)\u001b[0m\n\u001b[0;32m    825\u001b[0m     \u001b[38;5;28;01mbreak\u001b[39;00m\n\u001b[0;32m    826\u001b[0m \u001b[38;5;28;01mif\u001b[39;00m i:\n\u001b[1;32m--> 827\u001b[0m     found \u001b[38;5;241m=\u001b[39m \u001b[43mstrainer\u001b[49m\u001b[38;5;241;43m.\u001b[39;49m\u001b[43msearch\u001b[49m\u001b[43m(\u001b[49m\u001b[43mi\u001b[49m\u001b[43m)\u001b[49m\n\u001b[0;32m    828\u001b[0m     \u001b[38;5;28;01mif\u001b[39;00m found:\n\u001b[0;32m    829\u001b[0m         results\u001b[38;5;241m.\u001b[39mappend(found)\n",
      "File \u001b[1;32m~\\AppData\\Local\\Packages\\PythonSoftwareFoundation.Python.3.10_qbz5n2kfra8p0\\LocalCache\\local-packages\\Python310\\site-packages\\bs4\\element.py:2181\u001b[0m, in \u001b[0;36mSoupStrainer.search\u001b[1;34m(self, markup)\u001b[0m\n\u001b[0;32m   2179\u001b[0m \u001b[38;5;28;01melif\u001b[39;00m \u001b[38;5;28misinstance\u001b[39m(markup, Tag):\n\u001b[0;32m   2180\u001b[0m     \u001b[38;5;28;01mif\u001b[39;00m \u001b[38;5;129;01mnot\u001b[39;00m \u001b[38;5;28mself\u001b[39m\u001b[38;5;241m.\u001b[39mstring \u001b[38;5;129;01mor\u001b[39;00m \u001b[38;5;28mself\u001b[39m\u001b[38;5;241m.\u001b[39mname \u001b[38;5;129;01mor\u001b[39;00m \u001b[38;5;28mself\u001b[39m\u001b[38;5;241m.\u001b[39mattrs:\n\u001b[1;32m-> 2181\u001b[0m         found \u001b[38;5;241m=\u001b[39m \u001b[38;5;28;43mself\u001b[39;49m\u001b[38;5;241;43m.\u001b[39;49m\u001b[43msearch_tag\u001b[49m\u001b[43m(\u001b[49m\u001b[43mmarkup\u001b[49m\u001b[43m)\u001b[49m\n\u001b[0;32m   2182\u001b[0m \u001b[38;5;66;03m# If it's text, make sure the text matches.\u001b[39;00m\n\u001b[0;32m   2183\u001b[0m \u001b[38;5;28;01melif\u001b[39;00m \u001b[38;5;28misinstance\u001b[39m(markup, NavigableString) \u001b[38;5;129;01mor\u001b[39;00m \\\n\u001b[0;32m   2184\u001b[0m          \u001b[38;5;28misinstance\u001b[39m(markup, \u001b[38;5;28mstr\u001b[39m):\n",
      "File \u001b[1;32m~\\AppData\\Local\\Packages\\PythonSoftwareFoundation.Python.3.10_qbz5n2kfra8p0\\LocalCache\\local-packages\\Python310\\site-packages\\bs4\\element.py:2128\u001b[0m, in \u001b[0;36mSoupStrainer.search_tag\u001b[1;34m(self, markup_name, markup_attrs)\u001b[0m\n\u001b[0;32m   2120\u001b[0m          \u001b[38;5;28;01mreturn\u001b[39;00m \u001b[38;5;28;01mFalse\u001b[39;00m\n\u001b[0;32m   2122\u001b[0m call_function_with_tag_data \u001b[38;5;241m=\u001b[39m (\n\u001b[0;32m   2123\u001b[0m     \u001b[38;5;28misinstance\u001b[39m(\u001b[38;5;28mself\u001b[39m\u001b[38;5;241m.\u001b[39mname, Callable)\n\u001b[0;32m   2124\u001b[0m     \u001b[38;5;129;01mand\u001b[39;00m \u001b[38;5;129;01mnot\u001b[39;00m \u001b[38;5;28misinstance\u001b[39m(markup_name, Tag))\n\u001b[0;32m   2126\u001b[0m \u001b[38;5;28;01mif\u001b[39;00m ((\u001b[38;5;129;01mnot\u001b[39;00m \u001b[38;5;28mself\u001b[39m\u001b[38;5;241m.\u001b[39mname)\n\u001b[0;32m   2127\u001b[0m     \u001b[38;5;129;01mor\u001b[39;00m call_function_with_tag_data\n\u001b[1;32m-> 2128\u001b[0m     \u001b[38;5;129;01mor\u001b[39;00m (markup \u001b[38;5;129;01mand\u001b[39;00m \u001b[38;5;28;43mself\u001b[39;49m\u001b[38;5;241;43m.\u001b[39;49m\u001b[43m_matches\u001b[49m\u001b[43m(\u001b[49m\u001b[43mmarkup\u001b[49m\u001b[43m,\u001b[49m\u001b[43m \u001b[49m\u001b[38;5;28;43mself\u001b[39;49m\u001b[38;5;241;43m.\u001b[39;49m\u001b[43mname\u001b[49m\u001b[43m)\u001b[49m)\n\u001b[0;32m   2129\u001b[0m     \u001b[38;5;129;01mor\u001b[39;00m (\u001b[38;5;129;01mnot\u001b[39;00m markup \u001b[38;5;129;01mand\u001b[39;00m \u001b[38;5;28mself\u001b[39m\u001b[38;5;241m.\u001b[39m_matches(markup_name, \u001b[38;5;28mself\u001b[39m\u001b[38;5;241m.\u001b[39mname))):\n\u001b[0;32m   2130\u001b[0m     \u001b[38;5;28;01mif\u001b[39;00m call_function_with_tag_data:\n\u001b[0;32m   2131\u001b[0m         match \u001b[38;5;241m=\u001b[39m \u001b[38;5;28mself\u001b[39m\u001b[38;5;241m.\u001b[39mname(markup_name, markup_attrs)\n",
      "File \u001b[1;32m~\\AppData\\Local\\Packages\\PythonSoftwareFoundation.Python.3.10_qbz5n2kfra8p0\\LocalCache\\local-packages\\Python310\\site-packages\\bs4\\element.py:2212\u001b[0m, in \u001b[0;36mSoupStrainer._matches\u001b[1;34m(self, markup, match_against, already_tried)\u001b[0m\n\u001b[0;32m   2208\u001b[0m \u001b[38;5;28;01mif\u001b[39;00m match_against \u001b[38;5;129;01mis\u001b[39;00m \u001b[38;5;28;01mTrue\u001b[39;00m:\n\u001b[0;32m   2209\u001b[0m     \u001b[38;5;66;03m# True matches any non-None value.\u001b[39;00m\n\u001b[0;32m   2210\u001b[0m     \u001b[38;5;28;01mreturn\u001b[39;00m markup \u001b[38;5;129;01mis\u001b[39;00m \u001b[38;5;129;01mnot\u001b[39;00m \u001b[38;5;28;01mNone\u001b[39;00m\n\u001b[1;32m-> 2212\u001b[0m \u001b[38;5;28;01mif\u001b[39;00m \u001b[38;5;28;43misinstance\u001b[39;49m\u001b[43m(\u001b[49m\u001b[43mmatch_against\u001b[49m\u001b[43m,\u001b[49m\u001b[43m \u001b[49m\u001b[43mCallable\u001b[49m\u001b[43m)\u001b[49m:\n\u001b[0;32m   2213\u001b[0m     \u001b[38;5;28;01mreturn\u001b[39;00m match_against(markup)\n\u001b[0;32m   2215\u001b[0m \u001b[38;5;66;03m# Custom callables take the tag as an argument, but all\u001b[39;00m\n\u001b[0;32m   2216\u001b[0m \u001b[38;5;66;03m# other ways of matching match the tag name as a string.\u001b[39;00m\n",
      "\u001b[1;31mKeyboardInterrupt\u001b[0m: "
     ]
    }
   ],
   "source": [
    "numberofPostiveReviews=len(beautifulSoupText.find_all(\"div\", {\"class\": \"apphub_UserReviewCardContent\"}))\n",
    "\n",
    "for i in range(numberofpostiveReviews):\n",
    "    \n",
    "    userReview = beautifulSoupText.find_all(\"div\", {\"class\": \"apphub_UserReviewCardContent\"})[i]\n",
    "    \n",
    "    helpful =userReview.find(\"div\", {\"class\": \"found_helpful\"})\n",
    "    helpful = re.sub(\"<.*?>\",\"\",str(helpful))\n",
    "    helpful = re.sub(\"\\t\",\"\",helpful)\n",
    "    helpful = re.sub(\"\\n\",\"\",helpful)\n",
    "    \n",
    "    \n",
    "    recommendations =userReview.find(\"div\", {\"class\": \"title\"})\n",
    "    recommendations =re.sub(\"<.*?>\",\"\",str(recommendations))\n",
    "    \n",
    "    hours =userReview.find(\"div\",{\"class\":\"hours\"})\n",
    "    hours = re.sub(\"<.*?>\",\"\",str(hours))\n",
    "    \n",
    "    review = userReview.find(\"div\", {\"class\": \"apphub_CardTextContent\"})\n",
    "    review = re.sub(\"<.*>\",\"\",str(review))\n",
    "    review = re.sub(\"\\n\",\"\",review)\n",
    "    reivew = re.sub(\"\\t\",\"\",review)\n",
    "    \n",
    "    date = userReview.find(\"div\",{\"class\":\"date_posted\"})\n",
    "    date = re.sub(\"<.*?>\",\"\",str(date))\n",
    "    \n",
    "    temp[\"helpful\"]= helpful\n",
    "    temp[\"recommendations\"] = recommendations\n",
    "    temp[\"hours\"] =hours\n",
    "    temp[\"review\"] = review\n",
    "    temp[\"date\"] = date\n",
    "    \n",
    "    BFReivews = BFReivews.append(temp,ignore_index = True)\n",
    "    temp = temp.iloc[0:0]\n",
    "    temp=temp.append(pd.Series(), ignore_index=True)"
   ]
  },
  {
   "cell_type": "code",
   "execution_count": null,
   "id": "86194246",
   "metadata": {},
   "outputs": [],
   "source": [
    "with open(\"output2.html\", \"w\", encoding='utf-8') as file:\n",
    "    file.write(str(soup))"
   ]
  },
  {
   "cell_type": "code",
   "execution_count": 17,
   "id": "b34cbb33",
   "metadata": {},
   "outputs": [],
   "source": [
    "#open local file\n",
    "HTMLFileToBeOpened = open(\"output2.html\", \"r\",encoding=\"utf8\")\n",
    "contents = HTMLFileToBeOpened.read()\n",
    "beautifulSoupText = bs(contents, 'lxml')"
   ]
  },
  {
   "cell_type": "code",
   "execution_count": 32,
   "id": "a7470765",
   "metadata": {},
   "outputs": [
    {
     "data": {
      "text/plain": [
       "<div class=\"apphub_CardTextContent\">\n",
       "<div class=\"date_posted\">Posted: December 18, 2021</div>\n",
       "\t\t\t\t\t\t\t\t\t\t\t\t\t\t\t\tThe game is honestly really fun, the guns feel great, and the classes all feel refreshing. The only issue is the stability of the game, and how getting hit with a car can crash your game. I'd hold out until the game is more polished.\t\t\t</div>"
      ]
     },
     "execution_count": 32,
     "metadata": {},
     "output_type": "execute_result"
    }
   ],
   "source": [
    "beautifulSoupText.find_all(\"div\", {\"class\": \"apphub_CardTextContent\"})[25449]"
   ]
  },
  {
   "cell_type": "code",
   "execution_count": null,
   "id": "e7c1ab06",
   "metadata": {},
   "outputs": [],
   "source": []
  }
 ],
 "metadata": {
  "kernelspec": {
   "display_name": "Python 3 (ipykernel)",
   "language": "python",
   "name": "python3"
  },
  "language_info": {
   "codemirror_mode": {
    "name": "ipython",
    "version": 3
   },
   "file_extension": ".py",
   "mimetype": "text/x-python",
   "name": "python",
   "nbconvert_exporter": "python",
   "pygments_lexer": "ipython3",
   "version": "3.10.8"
  }
 },
 "nbformat": 4,
 "nbformat_minor": 5
}
