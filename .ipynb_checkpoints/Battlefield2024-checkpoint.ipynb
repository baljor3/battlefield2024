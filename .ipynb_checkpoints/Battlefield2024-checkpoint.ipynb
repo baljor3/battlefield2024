{
 "cells": [
  {
   "cell_type": "code",
   "execution_count": 1,
   "id": "0362903e",
   "metadata": {},
   "outputs": [],
   "source": [
    "from bs4 import BeautifulSoup as bs\n",
    "import selenium\n",
    "from selenium import webdriver\n",
    "import time\n",
    "from selenium.webdriver.common.by import By\n",
    "import steam_review_scraper \n",
    "import requests\n",
    "from datetime import datetime as dt\n",
    "import pandas as pd\n",
    "from steam_review_scraper import get_game_review "
   ]
  },
  {
   "cell_type": "code",
   "execution_count": 37,
   "id": "91e2cb4b",
   "metadata": {},
   "outputs": [
    {
     "name": "stderr",
     "output_type": "stream",
     "text": [
      "C:\\Users\\bobby\\AppData\\Local\\Temp\\ipykernel_36292\\534560277.py:2: DeprecationWarning: executable_path has been deprecated, please pass in a Service object\n",
      "  driver = webdriver.Chrome(\"chromedriver.exe\")\n"
     ]
    }
   ],
   "source": [
    "#https://steamcommunity.com/app/1517290/reviews/?browsefilter=mostrecent&snr=1_5_100010_&p=1 steam website\n",
    "driver = webdriver.Chrome(\"chromedriver.exe\")\n",
    "driver.get(\"https://steamcommunity.com/app/1517290/reviews/?browsefilter=mostrecent&snr=1_5_100010_&p=1\")\n",
    "time.sleep(1)\n",
    "element=driver.find_element(By.CLASS_NAME,\"btn_grey_white_innerfade\")\n",
    "element.click()"
   ]
  },
  {
   "cell_type": "code",
   "execution_count": 24,
   "id": "aaa5d5b7",
   "metadata": {},
   "outputs": [],
   "source": [
    "#open drop down list for review ratings\n",
    "element= driver.find_element(By.CLASS_NAME, \"user_reviews_rating_filter\")\n",
    "element.click()"
   ]
  },
  {
   "cell_type": "code",
   "execution_count": 25,
   "id": "8da8cd6b",
   "metadata": {},
   "outputs": [],
   "source": [
    "#click on positive reviews only\n",
    "driver.find_element(By.ID,\"filterrating_option_1\").click()"
   ]
  },
  {
   "cell_type": "code",
   "execution_count": 27,
   "id": "40e46665",
   "metadata": {},
   "outputs": [],
   "source": [
    "SCROLL_PAUSE_TIME =0.5\n",
    "# Get scroll height\n",
    "last_height = driver.execute_script(\"return document.body.scrollHeight\")\n",
    "\n",
    "while True:\n",
    "    # Scroll down to bottom\n",
    "    driver.execute_script(\"window.scrollTo(0, document.body.scrollHeight);\")\n",
    "\n",
    "    # Wait to load page\n",
    "    time.sleep(SCROLL_PAUSE_TIME)\n",
    "\n",
    "    # Calculate new scroll height and compare with last scroll height\n",
    "    new_height = driver.execute_script(\"return document.body.scrollHeight\")\n",
    "    if new_height == last_height:\n",
    "        break\n",
    "    last_height = new_height"
   ]
  },
  {
   "cell_type": "code",
   "execution_count": 42,
   "id": "c5d48591",
   "metadata": {},
   "outputs": [
    {
     "ename": "NoSuchWindowException",
     "evalue": "Message: no such window: target window already closed\nfrom unknown error: web view not found\n  (Session info: chrome=109.0.5414.119)\nStacktrace:\nBacktrace:\n\t(No symbol) [0x006CF243]\n\t(No symbol) [0x00657FD1]\n\t(No symbol) [0x0054D04D]\n\t(No symbol) [0x00532D7A]\n\t(No symbol) [0x0059BE7B]\n\t(No symbol) [0x005AC196]\n\t(No symbol) [0x00598386]\n\t(No symbol) [0x0057163C]\n\t(No symbol) [0x0057269D]\n\tGetHandleVerifier [0x00969A22+2655074]\n\tGetHandleVerifier [0x0095CA24+2601828]\n\tGetHandleVerifier [0x00778C0A+619850]\n\tGetHandleVerifier [0x00777830+614768]\n\t(No symbol) [0x006605FC]\n\t(No symbol) [0x00665968]\n\t(No symbol) [0x00665A55]\n\t(No symbol) [0x0067051B]\n\tBaseThreadInitThunk [0x755600F9+25]\n\tRtlGetAppContainerNamedObjectPath [0x76FF7BBE+286]\n\tRtlGetAppContainerNamedObjectPath [0x76FF7B8E+238]\n",
     "output_type": "error",
     "traceback": [
      "\u001b[1;31m---------------------------------------------------------------------------\u001b[0m",
      "\u001b[1;31mNoSuchWindowException\u001b[0m                     Traceback (most recent call last)",
      "Input \u001b[1;32mIn [42]\u001b[0m, in \u001b[0;36m<cell line: 3>\u001b[1;34m()\u001b[0m\n\u001b[0;32m      4\u001b[0m iteration_start \u001b[38;5;241m=\u001b[39m time\u001b[38;5;241m.\u001b[39mtime()\n\u001b[0;32m      5\u001b[0m \u001b[38;5;66;03m# Scroll webpage, the 100 allows for a more 'aggressive' scroll\u001b[39;00m\n\u001b[1;32m----> 6\u001b[0m \u001b[43mdriver\u001b[49m\u001b[38;5;241;43m.\u001b[39;49m\u001b[43mexecute_script\u001b[49m\u001b[43m(\u001b[49m\u001b[38;5;124;43m'\u001b[39;49m\u001b[38;5;124;43mwindow.scrollTo(0, 100*document.body.scrollHeight);\u001b[39;49m\u001b[38;5;124;43m'\u001b[39;49m\u001b[43m)\u001b[49m\n\u001b[0;32m      8\u001b[0m post_scroll_height \u001b[38;5;241m=\u001b[39m driver\u001b[38;5;241m.\u001b[39mexecute_script(\u001b[38;5;124m'\u001b[39m\u001b[38;5;124mreturn document.body.scrollHeight;\u001b[39m\u001b[38;5;124m'\u001b[39m)\n\u001b[0;32m     10\u001b[0m scrolled \u001b[38;5;241m=\u001b[39m post_scroll_height \u001b[38;5;241m!=\u001b[39m pre_scroll_height\n",
      "File \u001b[1;32m~\\AppData\\Local\\Packages\\PythonSoftwareFoundation.Python.3.10_qbz5n2kfra8p0\\LocalCache\\local-packages\\Python310\\site-packages\\selenium\\webdriver\\remote\\webdriver.py:506\u001b[0m, in \u001b[0;36mWebDriver.execute_script\u001b[1;34m(self, script, *args)\u001b[0m\n\u001b[0;32m    503\u001b[0m converted_args \u001b[38;5;241m=\u001b[39m \u001b[38;5;28mlist\u001b[39m(args)\n\u001b[0;32m    504\u001b[0m command \u001b[38;5;241m=\u001b[39m Command\u001b[38;5;241m.\u001b[39mW3C_EXECUTE_SCRIPT\n\u001b[1;32m--> 506\u001b[0m \u001b[38;5;28;01mreturn\u001b[39;00m \u001b[38;5;28;43mself\u001b[39;49m\u001b[38;5;241;43m.\u001b[39;49m\u001b[43mexecute\u001b[49m\u001b[43m(\u001b[49m\u001b[43mcommand\u001b[49m\u001b[43m,\u001b[49m\u001b[43m \u001b[49m\u001b[43m{\u001b[49m\u001b[38;5;124;43m\"\u001b[39;49m\u001b[38;5;124;43mscript\u001b[39;49m\u001b[38;5;124;43m\"\u001b[39;49m\u001b[43m:\u001b[49m\u001b[43m \u001b[49m\u001b[43mscript\u001b[49m\u001b[43m,\u001b[49m\u001b[43m \u001b[49m\u001b[38;5;124;43m\"\u001b[39;49m\u001b[38;5;124;43margs\u001b[39;49m\u001b[38;5;124;43m\"\u001b[39;49m\u001b[43m:\u001b[49m\u001b[43m \u001b[49m\u001b[43mconverted_args\u001b[49m\u001b[43m}\u001b[49m\u001b[43m)\u001b[49m[\u001b[38;5;124m\"\u001b[39m\u001b[38;5;124mvalue\u001b[39m\u001b[38;5;124m\"\u001b[39m]\n",
      "File \u001b[1;32m~\\AppData\\Local\\Packages\\PythonSoftwareFoundation.Python.3.10_qbz5n2kfra8p0\\LocalCache\\local-packages\\Python310\\site-packages\\selenium\\webdriver\\remote\\webdriver.py:444\u001b[0m, in \u001b[0;36mWebDriver.execute\u001b[1;34m(self, driver_command, params)\u001b[0m\n\u001b[0;32m    442\u001b[0m response \u001b[38;5;241m=\u001b[39m \u001b[38;5;28mself\u001b[39m\u001b[38;5;241m.\u001b[39mcommand_executor\u001b[38;5;241m.\u001b[39mexecute(driver_command, params)\n\u001b[0;32m    443\u001b[0m \u001b[38;5;28;01mif\u001b[39;00m response:\n\u001b[1;32m--> 444\u001b[0m     \u001b[38;5;28;43mself\u001b[39;49m\u001b[38;5;241;43m.\u001b[39;49m\u001b[43merror_handler\u001b[49m\u001b[38;5;241;43m.\u001b[39;49m\u001b[43mcheck_response\u001b[49m\u001b[43m(\u001b[49m\u001b[43mresponse\u001b[49m\u001b[43m)\u001b[49m\n\u001b[0;32m    445\u001b[0m     response[\u001b[38;5;124m\"\u001b[39m\u001b[38;5;124mvalue\u001b[39m\u001b[38;5;124m\"\u001b[39m] \u001b[38;5;241m=\u001b[39m \u001b[38;5;28mself\u001b[39m\u001b[38;5;241m.\u001b[39m_unwrap_value(response\u001b[38;5;241m.\u001b[39mget(\u001b[38;5;124m\"\u001b[39m\u001b[38;5;124mvalue\u001b[39m\u001b[38;5;124m\"\u001b[39m, \u001b[38;5;28;01mNone\u001b[39;00m))\n\u001b[0;32m    446\u001b[0m     \u001b[38;5;28;01mreturn\u001b[39;00m response\n",
      "File \u001b[1;32m~\\AppData\\Local\\Packages\\PythonSoftwareFoundation.Python.3.10_qbz5n2kfra8p0\\LocalCache\\local-packages\\Python310\\site-packages\\selenium\\webdriver\\remote\\errorhandler.py:249\u001b[0m, in \u001b[0;36mErrorHandler.check_response\u001b[1;34m(self, response)\u001b[0m\n\u001b[0;32m    247\u001b[0m         alert_text \u001b[38;5;241m=\u001b[39m value[\u001b[38;5;124m\"\u001b[39m\u001b[38;5;124malert\u001b[39m\u001b[38;5;124m\"\u001b[39m]\u001b[38;5;241m.\u001b[39mget(\u001b[38;5;124m\"\u001b[39m\u001b[38;5;124mtext\u001b[39m\u001b[38;5;124m\"\u001b[39m)\n\u001b[0;32m    248\u001b[0m     \u001b[38;5;28;01mraise\u001b[39;00m exception_class(message, screen, stacktrace, alert_text)  \u001b[38;5;66;03m# type: ignore[call-arg]  # mypy is not smart enough here\u001b[39;00m\n\u001b[1;32m--> 249\u001b[0m \u001b[38;5;28;01mraise\u001b[39;00m exception_class(message, screen, stacktrace)\n",
      "\u001b[1;31mNoSuchWindowException\u001b[0m: Message: no such window: target window already closed\nfrom unknown error: web view not found\n  (Session info: chrome=109.0.5414.119)\nStacktrace:\nBacktrace:\n\t(No symbol) [0x006CF243]\n\t(No symbol) [0x00657FD1]\n\t(No symbol) [0x0054D04D]\n\t(No symbol) [0x00532D7A]\n\t(No symbol) [0x0059BE7B]\n\t(No symbol) [0x005AC196]\n\t(No symbol) [0x00598386]\n\t(No symbol) [0x0057163C]\n\t(No symbol) [0x0057269D]\n\tGetHandleVerifier [0x00969A22+2655074]\n\tGetHandleVerifier [0x0095CA24+2601828]\n\tGetHandleVerifier [0x00778C0A+619850]\n\tGetHandleVerifier [0x00777830+614768]\n\t(No symbol) [0x006605FC]\n\t(No symbol) [0x00665968]\n\t(No symbol) [0x00665A55]\n\t(No symbol) [0x0067051B]\n\tBaseThreadInitThunk [0x755600F9+25]\n\tRtlGetAppContainerNamedObjectPath [0x76FF7BBE+286]\n\tRtlGetAppContainerNamedObjectPath [0x76FF7B8E+238]\n"
     ]
    }
   ],
   "source": [
    "pre_scroll_height = driver.execute_script('return document.body.scrollHeight;')\n",
    "run_time, max_run_time = 0, 1\n",
    "while True:\n",
    "    iteration_start = time.time()\n",
    "    # Scroll webpage, the 100 allows for a more 'aggressive' scroll\n",
    "    driver.execute_script('window.scrollTo(0, 100*document.body.scrollHeight);')\n",
    "\n",
    "    post_scroll_height = driver.execute_script('return document.body.scrollHeight;')\n",
    "\n",
    "    scrolled = post_scroll_height != pre_scroll_height\n",
    "    timed_out = run_time >= max_run_time\n",
    "\n",
    "    if scrolled:\n",
    "        run_time = 0\n",
    "        pre_scroll_height = post_scroll_height\n",
    "    elif not scrolled and not timed_out:\n",
    "        run_time += time.time() - iteration_start\n",
    "    elif not scrolled and timed_out:\n",
    "        break\n",
    "    if(driver.find_element(By.ID,\"GetMoreContentBtn\") != None):\n",
    "        driver.switch_to.active_element.click()"
   ]
  },
  {
   "cell_type": "code",
   "execution_count": 41,
   "id": "455ce764",
   "metadata": {},
   "outputs": [
    {
     "data": {
      "text/plain": [
       "<selenium.webdriver.remote.webelement.WebElement (session=\"251fb2aefc257f3d28159413b5639ad2\", element=\"51d4d88d-19d8-4157-b5b0-70e4da7eb2e7\")>"
      ]
     },
     "execution_count": 41,
     "metadata": {},
     "output_type": "execute_result"
    }
   ],
   "source": [
    "def frame_switch(name):\n",
    "  driver.switch_to.frame(driver.find_element_by_name(name))"
   ]
  },
  {
   "cell_type": "code",
   "execution_count": 18,
   "id": "16c149ac",
   "metadata": {},
   "outputs": [],
   "source": [
    "soup = bs(driver.page_source, \"lxml\")"
   ]
  },
  {
   "cell_type": "code",
   "execution_count": 21,
   "id": "2973851d",
   "metadata": {},
   "outputs": [
    {
     "data": {
      "text/plain": [
       "<div class=\"apphub_UserReviewCardContent\">\n",
       "<div class=\"found_helpful\">\n",
       "\t\t\t\tNo one has rated this review as helpful yet\t\t\t\t<div class=\"review_award_aggregated tooltip\" data-tooltip-class=\"review_reward_tooltip\" data-tooltip-html='&lt;div class=\"review_award_ctn_hover\"&gt;This item has no awards&lt;/div&gt;'><img class=\"reward_btn_icon\" src=\"https://community.akamai.steamstatic.com/public/shared/images//award_icon_blue.svg\"/>0</div>\n",
       "</div>\n",
       "<div class=\"vote_header\">\n",
       "<div class=\"reviewInfo\">\n",
       "<div class=\"thumb\">\n",
       "<img height=\"44\" src=\"https://community.akamai.steamstatic.com/public/shared/images/userreviews/icon_thumbsUp.png?v=1\" width=\"44\"/>\n",
       "</div>\n",
       "<div class=\"title\">Recommended</div>\n",
       "<div class=\"hours\">83.6 hrs on record</div>\n",
       "</div>\n",
       "<div style=\"clear: left\"></div>\n",
       "</div>\n",
       "<div class=\"apphub_CardTextContent\">\n",
       "<div class=\"date_posted\">Posted: 24 January</div>\n",
       "\t\t\t\t\t\t\t\t\t\t\t\t\t\t\t\tcouple bugs but is good overall!!!\t\t\t</div>\n",
       "</div>"
      ]
     },
     "execution_count": 21,
     "metadata": {},
     "output_type": "execute_result"
    }
   ],
   "source": [
    "soup.find_all(\"div\",{\"class\":\"apphub_UserReviewCardContent\"})[1]"
   ]
  }
 ],
 "metadata": {
  "kernelspec": {
   "display_name": "Python 3 (ipykernel)",
   "language": "python",
   "name": "python3"
  },
  "language_info": {
   "codemirror_mode": {
    "name": "ipython",
    "version": 3
   },
   "file_extension": ".py",
   "mimetype": "text/x-python",
   "name": "python",
   "nbconvert_exporter": "python",
   "pygments_lexer": "ipython3",
   "version": "3.10.8"
  }
 },
 "nbformat": 4,
 "nbformat_minor": 5
}
