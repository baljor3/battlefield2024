{
 "cells": [
  {
   "cell_type": "code",
   "execution_count": 54,
   "id": "2719bde9",
   "metadata": {},
   "outputs": [],
   "source": [
    "import pandas as pd\n",
    "import numpy as np\n",
    "import re\n",
    "import datetime\n",
    "from scipy.stats import chisquare\n",
    "import string\n",
    "import nltk\n",
    "from nltk.corpus import stopwords\n",
    "from nltk.tokenize import WhitespaceTokenizer\n",
    "from nltk.corpus import stopwords\n",
    "from nltk import classify\n",
    "from nltk import NaiveBayesClassifier\n",
    "import random"
   ]
  },
  {
   "cell_type": "code",
   "execution_count": 3,
   "id": "7a253e0e",
   "metadata": {},
   "outputs": [],
   "source": [
    "#read csv\n",
    "BF=pd.read_csv(\"Battlefieldreviews.csv\")"
   ]
  },
  {
   "cell_type": "code",
   "execution_count": 33,
   "id": "50320fc8",
   "metadata": {},
   "outputs": [
    {
     "data": {
      "text/html": [
       "<div>\n",
       "<style scoped>\n",
       "    .dataframe tbody tr th:only-of-type {\n",
       "        vertical-align: middle;\n",
       "    }\n",
       "\n",
       "    .dataframe tbody tr th {\n",
       "        vertical-align: top;\n",
       "    }\n",
       "\n",
       "    .dataframe thead th {\n",
       "        text-align: right;\n",
       "    }\n",
       "</style>\n",
       "<table border=\"1\" class=\"dataframe\">\n",
       "  <thead>\n",
       "    <tr style=\"text-align: right;\">\n",
       "      <th></th>\n",
       "      <th>helpful</th>\n",
       "      <th>recommendations</th>\n",
       "      <th>hours</th>\n",
       "      <th>review</th>\n",
       "      <th>date</th>\n",
       "      <th>Help</th>\n",
       "      <th>funny</th>\n",
       "      <th>Month</th>\n",
       "      <th>Day</th>\n",
       "      <th>Year</th>\n",
       "      <th>HoursBinned</th>\n",
       "    </tr>\n",
       "  </thead>\n",
       "  <tbody>\n",
       "    <tr>\n",
       "      <th>0</th>\n",
       "      <td>No one has rated this review as helpful yet0</td>\n",
       "      <td>Recommended</td>\n",
       "      <td>95.9</td>\n",
       "      <td>Pretty good now, shame it took this long to ge...</td>\n",
       "      <td>27 January</td>\n",
       "      <td>0.0</td>\n",
       "      <td>0.0</td>\n",
       "      <td>January</td>\n",
       "      <td>27</td>\n",
       "      <td>2023.0</td>\n",
       "      <td>(93.95, 7570.1]</td>\n",
       "    </tr>\n",
       "    <tr>\n",
       "      <th>1</th>\n",
       "      <td>No one has rated this review as helpful yet0</td>\n",
       "      <td>Recommended</td>\n",
       "      <td>1.0</td>\n",
       "      <td>surprisingly good! Shields are OP :) one hit k...</td>\n",
       "      <td>27 January</td>\n",
       "      <td>0.0</td>\n",
       "      <td>0.0</td>\n",
       "      <td>January</td>\n",
       "      <td>27</td>\n",
       "      <td>2023.0</td>\n",
       "      <td>(0.099, 12.4]</td>\n",
       "    </tr>\n",
       "    <tr>\n",
       "      <th>2</th>\n",
       "      <td>No one has rated this review as helpful yet0</td>\n",
       "      <td>Recommended</td>\n",
       "      <td>5.5</td>\n",
       "      <td>i got this game today, and played 5.5 hours st...</td>\n",
       "      <td>27 January</td>\n",
       "      <td>0.0</td>\n",
       "      <td>0.0</td>\n",
       "      <td>January</td>\n",
       "      <td>27</td>\n",
       "      <td>2023.0</td>\n",
       "      <td>(0.099, 12.4]</td>\n",
       "    </tr>\n",
       "    <tr>\n",
       "      <th>3</th>\n",
       "      <td>1 person found this review helpful0</td>\n",
       "      <td>Recommended</td>\n",
       "      <td>54.8</td>\n",
       "      <td>started out rough but the game has really turn...</td>\n",
       "      <td>27 January</td>\n",
       "      <td>1.0</td>\n",
       "      <td>0.0</td>\n",
       "      <td>January</td>\n",
       "      <td>27</td>\n",
       "      <td>2023.0</td>\n",
       "      <td>(40.2, 93.95]</td>\n",
       "    </tr>\n",
       "    <tr>\n",
       "      <th>4</th>\n",
       "      <td>1 person found this review helpful0</td>\n",
       "      <td>Recommended</td>\n",
       "      <td>35.6</td>\n",
       "      <td>Fun game</td>\n",
       "      <td>27 January</td>\n",
       "      <td>1.0</td>\n",
       "      <td>0.0</td>\n",
       "      <td>January</td>\n",
       "      <td>27</td>\n",
       "      <td>2023.0</td>\n",
       "      <td>(12.4, 40.2]</td>\n",
       "    </tr>\n",
       "  </tbody>\n",
       "</table>\n",
       "</div>"
      ],
      "text/plain": [
       "                                        helpful recommendations  hours  \\\n",
       "0  No one has rated this review as helpful yet0     Recommended   95.9   \n",
       "1  No one has rated this review as helpful yet0     Recommended    1.0   \n",
       "2  No one has rated this review as helpful yet0     Recommended    5.5   \n",
       "3           1 person found this review helpful0     Recommended   54.8   \n",
       "4           1 person found this review helpful0     Recommended   35.6   \n",
       "\n",
       "                                              review        date  Help  funny  \\\n",
       "0  Pretty good now, shame it took this long to ge...  27 January   0.0    0.0   \n",
       "1  surprisingly good! Shields are OP :) one hit k...  27 January   0.0    0.0   \n",
       "2  i got this game today, and played 5.5 hours st...  27 January   0.0    0.0   \n",
       "3  started out rough but the game has really turn...  27 January   1.0    0.0   \n",
       "4                                           Fun game  27 January   1.0    0.0   \n",
       "\n",
       "     Month Day    Year      HoursBinned  \n",
       "0  January  27  2023.0  (93.95, 7570.1]  \n",
       "1  January  27  2023.0    (0.099, 12.4]  \n",
       "2  January  27  2023.0    (0.099, 12.4]  \n",
       "3  January  27  2023.0    (40.2, 93.95]  \n",
       "4  January  27  2023.0     (12.4, 40.2]  "
      ]
     },
     "execution_count": 33,
     "metadata": {},
     "output_type": "execute_result"
    }
   ],
   "source": [
    "#look at data\n",
    "BF.head(5)"
   ]
  },
  {
   "cell_type": "code",
   "execution_count": 5,
   "id": "9e0b6158",
   "metadata": {},
   "outputs": [],
   "source": [
    "BF=BF.drop([\"Unnamed: 0\"],axis=1)"
   ]
  },
  {
   "cell_type": "code",
   "execution_count": 6,
   "id": "37d5b4d3",
   "metadata": {},
   "outputs": [],
   "source": [
    "#remove \\t from review column\n",
    "BF['review']=BF.apply(lambda row: re.sub(\"\\t\",\"\",str(row['review'])),axis =1)"
   ]
  },
  {
   "cell_type": "code",
   "execution_count": 7,
   "id": "9508b0bf",
   "metadata": {},
   "outputs": [],
   "source": [
    "#split X amount of people found this helpful and Y amount of people found this funny \n",
    "BF[[\"Help\",\"funny\"]]=BF[\"helpful\"].str.split(n=1,expand= True)"
   ]
  },
  {
   "cell_type": "code",
   "execution_count": 8,
   "id": "4878dbda",
   "metadata": {},
   "outputs": [],
   "source": [
    "#Remove all letters from Help\n",
    "BF['Help']=BF.apply(lambda row: re.sub(\"[A-z]\",\"\",str(row['Help'])),axis =1)"
   ]
  },
  {
   "cell_type": "code",
   "execution_count": 9,
   "id": "efaeb9c6",
   "metadata": {},
   "outputs": [],
   "source": [
    "#remove all letters from funny\n",
    "BF['funny']=BF.apply(lambda row: re.sub(\"[A-z]\",\"\",str(row['funny'])),axis =1)"
   ]
  },
  {
   "cell_type": "code",
   "execution_count": 10,
   "id": "af27aa2a",
   "metadata": {},
   "outputs": [],
   "source": [
    "#remove all letters froms hours\n",
    "BF['hours']=BF.apply(lambda row: re.sub(\"[A-z]\",\"\",str(row['hours'])),axis =1)"
   ]
  },
  {
   "cell_type": "code",
   "execution_count": 11,
   "id": "85716393",
   "metadata": {},
   "outputs": [],
   "source": [
    "# remove spaces in hours\n",
    "BF['hours']=BF.apply(lambda row: re.sub(\" \",\"\",str(row['hours'])),axis =1)"
   ]
  },
  {
   "cell_type": "code",
   "execution_count": 12,
   "id": "11c70857",
   "metadata": {},
   "outputs": [],
   "source": [
    "#remove ',' from hours\n",
    "BF['hours']=BF.apply(lambda row: re.sub(\",\",\"\",str(row['hours'])),axis =1)"
   ]
  },
  {
   "cell_type": "code",
   "execution_count": 13,
   "id": "0ccdff8f",
   "metadata": {},
   "outputs": [],
   "source": [
    "#covert string to float\n",
    "BF[\"hours\"]=BF[\"hours\"].astype(\"float\")"
   ]
  },
  {
   "cell_type": "code",
   "execution_count": 14,
   "id": "c39a99db",
   "metadata": {},
   "outputs": [],
   "source": [
    "#remove posted from date\n",
    "BF[\"date\"] = BF.apply(lambda row: re.sub(\"Posted: \",\"\",str(row[\"date\"])),axis =1)"
   ]
  },
  {
   "cell_type": "code",
   "execution_count": 15,
   "id": "c4e15e79",
   "metadata": {},
   "outputs": [
    {
     "data": {
      "text/plain": [
       "array(['January', 'December', 'November', 'October', 'September',\n",
       "       'August', 'July', 'June', 'May', 'April', 'March', 'February'],\n",
       "      dtype=object)"
      ]
     },
     "execution_count": 15,
     "metadata": {},
     "output_type": "execute_result"
    }
   ],
   "source": [
    "#extract month from date and put it in its column\n",
    "BF[\"Month\"]=BF.apply(lambda row : re.search(\"[A-z]+\", str(row[\"date\"])).group(),axis =1)\n",
    "BF[\"Month\"].unique()"
   ]
  },
  {
   "cell_type": "code",
   "execution_count": 16,
   "id": "b0cae4e1",
   "metadata": {},
   "outputs": [
    {
     "data": {
      "text/plain": [
       "array(['27', '26', '25', '24', '23', '22', '21', '20', '19', '18', '17',\n",
       "       '16', '15', '14', '13', '12', '11', '10', '9', '8', '7', '6', '5',\n",
       "       '4', '3', '2', '1', '31', '30', '29', '28'], dtype=object)"
      ]
     },
     "execution_count": 16,
     "metadata": {},
     "output_type": "execute_result"
    }
   ],
   "source": [
    "#extract day from date\n",
    "BF[\"Day\"]=BF.apply(lambda row : re.search(\"[0-9]+\", str(row[\"date\"])).group(),axis =1)\n",
    "BF[\"Day\"].unique()"
   ]
  },
  {
   "cell_type": "code",
   "execution_count": 17,
   "id": "6a45e160",
   "metadata": {},
   "outputs": [],
   "source": [
    "#extract year from date\n",
    "BF[\"Year\"]=BF.apply(lambda row : re.search(\"[0-9]*$\", str(row[\"date\"])).group(),axis =1)"
   ]
  },
  {
   "cell_type": "code",
   "execution_count": 18,
   "id": "889a7faa",
   "metadata": {},
   "outputs": [
    {
     "name": "stderr",
     "output_type": "stream",
     "text": [
      "C:\\Users\\bobby\\AppData\\Local\\Temp\\ipykernel_26024\\552455930.py:2: FutureWarning: The default value of regex will change from True to False in a future version.\n",
      "  BF[\"Year\"]=BF[\"Year\"].str.replace(\"^..$|^.$\",\"\")\n"
     ]
    }
   ],
   "source": [
    "#remove days from the years column\n",
    "BF[\"Year\"]=BF[\"Year\"].str.replace(\"^..$|^.$\",\"\")"
   ]
  },
  {
   "cell_type": "code",
   "execution_count": 19,
   "id": "0628de2a",
   "metadata": {},
   "outputs": [],
   "source": [
    "#convert year to numeric and fill the nas with 2023 year\n",
    "BF[\"Year\"]=pd.to_numeric(BF[\"Year\"]).fillna(2023)"
   ]
  },
  {
   "cell_type": "code",
   "execution_count": 20,
   "id": "f7665f08",
   "metadata": {},
   "outputs": [],
   "source": [
    "#change help from string to float\n",
    "BF[\"Help\"]=pd.to_numeric(BF[\"Help\"].str.replace(\",\",\"\")).fillna(0)"
   ]
  },
  {
   "cell_type": "code",
   "execution_count": 21,
   "id": "f7d903ff",
   "metadata": {},
   "outputs": [
    {
     "name": "stderr",
     "output_type": "stream",
     "text": [
      "C:\\Users\\bobby\\AppData\\Local\\Temp\\ipykernel_26024\\421992709.py:2: FutureWarning: The default value of regex will change from True to False in a future version.\n",
      "  BF[\"funny\"]=BF[\"funny\"].str.replace(\"<.*\",\"\")\n",
      "C:\\Users\\bobby\\AppData\\Local\\Temp\\ipykernel_26024\\421992709.py:4: FutureWarning: The default value of regex will change from True to False in a future version.\n",
      "  BF[\"funny\"]=BF[\"funny\"].str.replace(\"[A-z][0-9]\",\"\")\n",
      "C:\\Users\\bobby\\AppData\\Local\\Temp\\ipykernel_26024\\421992709.py:5: FutureWarning: The default value of regex will change from True to False in a future version.\n",
      "  BF[\"funny\"]=BF[\"funny\"].str.replace(\" [0-9]$\",\"\")\n"
     ]
    }
   ],
   "source": [
    "# remove all letters and special charactors and convert string into numeric\n",
    "BF[\"funny\"]=BF[\"funny\"].str.replace(\"<.*\",\"\")\n",
    "BF[\"funny\"]=BF[\"funny\"].str.strip()\n",
    "BF[\"funny\"]=BF[\"funny\"].str.replace(\"[A-z][0-9]\",\"\")\n",
    "BF[\"funny\"]=BF[\"funny\"].str.replace(\" [0-9]$\",\"\")\n",
    "BF[\"funny\"]=BF[\"funny\"].str.replace(\",\",\"\")\n",
    "BF[\"funny\"]=pd.to_numeric(BF[\"funny\"])\n",
    "BF[\"funny\"]=BF.funny.fillna(0)"
   ]
  },
  {
   "cell_type": "code",
   "execution_count": 22,
   "id": "de9a4b39",
   "metadata": {},
   "outputs": [
    {
     "data": {
      "text/html": [
       "<div>\n",
       "<style scoped>\n",
       "    .dataframe tbody tr th:only-of-type {\n",
       "        vertical-align: middle;\n",
       "    }\n",
       "\n",
       "    .dataframe tbody tr th {\n",
       "        vertical-align: top;\n",
       "    }\n",
       "\n",
       "    .dataframe thead th {\n",
       "        text-align: right;\n",
       "    }\n",
       "</style>\n",
       "<table border=\"1\" class=\"dataframe\">\n",
       "  <thead>\n",
       "    <tr style=\"text-align: right;\">\n",
       "      <th></th>\n",
       "      <th>hours</th>\n",
       "      <th>Help</th>\n",
       "      <th>funny</th>\n",
       "      <th>Year</th>\n",
       "    </tr>\n",
       "  </thead>\n",
       "  <tbody>\n",
       "    <tr>\n",
       "      <th>count</th>\n",
       "      <td>53547.000000</td>\n",
       "      <td>53547.000000</td>\n",
       "      <td>53547.000000</td>\n",
       "      <td>53547.000000</td>\n",
       "    </tr>\n",
       "    <tr>\n",
       "      <th>mean</th>\n",
       "      <td>79.308611</td>\n",
       "      <td>5.103180</td>\n",
       "      <td>1.985751</td>\n",
       "      <td>2021.614376</td>\n",
       "    </tr>\n",
       "    <tr>\n",
       "      <th>std</th>\n",
       "      <td>136.645217</td>\n",
       "      <td>104.535163</td>\n",
       "      <td>65.154383</td>\n",
       "      <td>0.532025</td>\n",
       "    </tr>\n",
       "    <tr>\n",
       "      <th>min</th>\n",
       "      <td>0.100000</td>\n",
       "      <td>0.000000</td>\n",
       "      <td>0.000000</td>\n",
       "      <td>2021.000000</td>\n",
       "    </tr>\n",
       "    <tr>\n",
       "      <th>25%</th>\n",
       "      <td>12.400000</td>\n",
       "      <td>0.000000</td>\n",
       "      <td>0.000000</td>\n",
       "      <td>2021.000000</td>\n",
       "    </tr>\n",
       "    <tr>\n",
       "      <th>50%</th>\n",
       "      <td>40.200000</td>\n",
       "      <td>1.000000</td>\n",
       "      <td>0.000000</td>\n",
       "      <td>2022.000000</td>\n",
       "    </tr>\n",
       "    <tr>\n",
       "      <th>75%</th>\n",
       "      <td>93.950000</td>\n",
       "      <td>2.000000</td>\n",
       "      <td>0.000000</td>\n",
       "      <td>2022.000000</td>\n",
       "    </tr>\n",
       "    <tr>\n",
       "      <th>max</th>\n",
       "      <td>7570.100000</td>\n",
       "      <td>12385.000000</td>\n",
       "      <td>8990.000000</td>\n",
       "      <td>2023.000000</td>\n",
       "    </tr>\n",
       "  </tbody>\n",
       "</table>\n",
       "</div>"
      ],
      "text/plain": [
       "              hours          Help         funny          Year\n",
       "count  53547.000000  53547.000000  53547.000000  53547.000000\n",
       "mean      79.308611      5.103180      1.985751   2021.614376\n",
       "std      136.645217    104.535163     65.154383      0.532025\n",
       "min        0.100000      0.000000      0.000000   2021.000000\n",
       "25%       12.400000      0.000000      0.000000   2021.000000\n",
       "50%       40.200000      1.000000      0.000000   2022.000000\n",
       "75%       93.950000      2.000000      0.000000   2022.000000\n",
       "max     7570.100000  12385.000000   8990.000000   2023.000000"
      ]
     },
     "execution_count": 22,
     "metadata": {},
     "output_type": "execute_result"
    }
   ],
   "source": [
    "#looking at data\n",
    "BF.describe()"
   ]
  },
  {
   "cell_type": "code",
   "execution_count": 23,
   "id": "10009c78",
   "metadata": {},
   "outputs": [
    {
     "data": {
      "text/plain": [
       "array([[<AxesSubplot:title={'center':'hours'}>,\n",
       "        <AxesSubplot:title={'center':'Help'}>],\n",
       "       [<AxesSubplot:title={'center':'funny'}>, <AxesSubplot:>]],\n",
       "      dtype=object)"
      ]
     },
     "execution_count": 23,
     "metadata": {},
     "output_type": "execute_result"
    },
    {
     "data": {
      "image/png": "[encoded data removed]",
      "text/plain": [
       "<Figure size 432x288 with 4 Axes>"
      ]
     },
     "metadata": {
      "needs_background": "light"
     },
     "output_type": "display_data"
    }
   ],
   "source": [
    "BF[[\"hours\",\"Help\",\"funny\"]].hist()"
   ]
  },
  {
   "cell_type": "code",
   "execution_count": 24,
   "id": "d975967c",
   "metadata": {},
   "outputs": [
    {
     "data": {
      "text/plain": [
       "<AxesSubplot:>"
      ]
     },
     "execution_count": 24,
     "metadata": {},
     "output_type": "execute_result"
    },
    {
     "data": {
      "image/png": "[encoded data removed]",
      "text/plain": [
       "<Figure size 432x288 with 1 Axes>"
      ]
     },
     "metadata": {
      "needs_background": "light"
     },
     "output_type": "display_data"
    }
   ],
   "source": [
    "#Majority of players that recommended the game are between 0 to 600 hours played\n",
    "BF.loc[BF[\"recommendations\"]== 'Recommended'][\"hours\"].hist()"
   ]
  },
  {
   "cell_type": "code",
   "execution_count": 25,
   "id": "ef4b50d3",
   "metadata": {},
   "outputs": [
    {
     "data": {
      "text/plain": [
       "<AxesSubplot:>"
      ]
     },
     "execution_count": 25,
     "metadata": {},
     "output_type": "execute_result"
    },
    {
     "data": {
      "image/png": "[encoded data removed]",
      "text/plain": [
       "<Figure size 432x288 with 1 Axes>"
      ]
     },
     "metadata": {
      "needs_background": "light"
     },
     "output_type": "display_data"
    }
   ],
   "source": [
    "#Majority of players that do not recommended the game are between 0 to 600 hours played\n",
    "BF.loc[BF[\"recommendations\"]== 'Not Recommended'][\"hours\"].hist()"
   ]
  },
  {
   "cell_type": "code",
   "execution_count": 26,
   "id": "961eb6ad",
   "metadata": {},
   "outputs": [
    {
     "data": {
      "text/plain": [
       "0        (93.95, 7570.1]\n",
       "1          (0.099, 12.4]\n",
       "2          (0.099, 12.4]\n",
       "3          (40.2, 93.95]\n",
       "4           (12.4, 40.2]\n",
       "              ...       \n",
       "53542      (0.099, 12.4]\n",
       "53543      (0.099, 12.4]\n",
       "53544      (0.099, 12.4]\n",
       "53545      (0.099, 12.4]\n",
       "53546       (12.4, 40.2]\n",
       "Name: HoursBinned, Length: 53547, dtype: category\n",
       "Categories (4, interval[float64, right]): [(0.099, 12.4] < (12.4, 40.2] < (40.2, 93.95] < (93.95, 7570.1]]"
      ]
     },
     "execution_count": 26,
     "metadata": {},
     "output_type": "execute_result"
    }
   ],
   "source": [
    "#HoursBinned\n",
    "BF[\"HoursBinned\"]=pd.qcut(BF[\"hours\"],q=4)\n",
    "BF[\"HoursBinned\"]"
   ]
  },
  {
   "cell_type": "code",
   "execution_count": 27,
   "id": "fc6bdcb2",
   "metadata": {},
   "outputs": [
    {
     "data": {
      "text/html": [
       "<div>\n",
       "<style scoped>\n",
       "    .dataframe tbody tr th:only-of-type {\n",
       "        vertical-align: middle;\n",
       "    }\n",
       "\n",
       "    .dataframe tbody tr th {\n",
       "        vertical-align: top;\n",
       "    }\n",
       "\n",
       "    .dataframe thead th {\n",
       "        text-align: right;\n",
       "    }\n",
       "</style>\n",
       "<table border=\"1\" class=\"dataframe\">\n",
       "  <thead>\n",
       "    <tr style=\"text-align: right;\">\n",
       "      <th></th>\n",
       "      <th>HoursBinned</th>\n",
       "      <th>recommendations</th>\n",
       "      <th>helpful</th>\n",
       "      <th>hours</th>\n",
       "      <th>review</th>\n",
       "      <th>date</th>\n",
       "      <th>Help</th>\n",
       "      <th>funny</th>\n",
       "      <th>Month</th>\n",
       "      <th>Day</th>\n",
       "      <th>Year</th>\n",
       "    </tr>\n",
       "  </thead>\n",
       "  <tbody>\n",
       "    <tr>\n",
       "      <th>0</th>\n",
       "      <td>(0.099, 12.4]</td>\n",
       "      <td>Not Recommended</td>\n",
       "      <td>10137</td>\n",
       "      <td>10137</td>\n",
       "      <td>10137</td>\n",
       "      <td>10137</td>\n",
       "      <td>10137</td>\n",
       "      <td>10137</td>\n",
       "      <td>10137</td>\n",
       "      <td>10137</td>\n",
       "      <td>10137</td>\n",
       "    </tr>\n",
       "    <tr>\n",
       "      <th>1</th>\n",
       "      <td>(0.099, 12.4]</td>\n",
       "      <td>Recommended</td>\n",
       "      <td>3257</td>\n",
       "      <td>3257</td>\n",
       "      <td>3257</td>\n",
       "      <td>3257</td>\n",
       "      <td>3257</td>\n",
       "      <td>3257</td>\n",
       "      <td>3257</td>\n",
       "      <td>3257</td>\n",
       "      <td>3257</td>\n",
       "    </tr>\n",
       "    <tr>\n",
       "      <th>2</th>\n",
       "      <td>(12.4, 40.2]</td>\n",
       "      <td>Not Recommended</td>\n",
       "      <td>6285</td>\n",
       "      <td>6285</td>\n",
       "      <td>6285</td>\n",
       "      <td>6285</td>\n",
       "      <td>6285</td>\n",
       "      <td>6285</td>\n",
       "      <td>6285</td>\n",
       "      <td>6285</td>\n",
       "      <td>6285</td>\n",
       "    </tr>\n",
       "    <tr>\n",
       "      <th>3</th>\n",
       "      <td>(12.4, 40.2]</td>\n",
       "      <td>Recommended</td>\n",
       "      <td>7111</td>\n",
       "      <td>7111</td>\n",
       "      <td>7111</td>\n",
       "      <td>7111</td>\n",
       "      <td>7111</td>\n",
       "      <td>7111</td>\n",
       "      <td>7111</td>\n",
       "      <td>7111</td>\n",
       "      <td>7111</td>\n",
       "    </tr>\n",
       "    <tr>\n",
       "      <th>4</th>\n",
       "      <td>(40.2, 93.95]</td>\n",
       "      <td>Not Recommended</td>\n",
       "      <td>4998</td>\n",
       "      <td>4998</td>\n",
       "      <td>4998</td>\n",
       "      <td>4998</td>\n",
       "      <td>4998</td>\n",
       "      <td>4998</td>\n",
       "      <td>4998</td>\n",
       "      <td>4998</td>\n",
       "      <td>4998</td>\n",
       "    </tr>\n",
       "    <tr>\n",
       "      <th>5</th>\n",
       "      <td>(40.2, 93.95]</td>\n",
       "      <td>Recommended</td>\n",
       "      <td>8372</td>\n",
       "      <td>8372</td>\n",
       "      <td>8372</td>\n",
       "      <td>8372</td>\n",
       "      <td>8372</td>\n",
       "      <td>8372</td>\n",
       "      <td>8372</td>\n",
       "      <td>8372</td>\n",
       "      <td>8372</td>\n",
       "    </tr>\n",
       "    <tr>\n",
       "      <th>6</th>\n",
       "      <td>(93.95, 7570.1]</td>\n",
       "      <td>Not Recommended</td>\n",
       "      <td>4030</td>\n",
       "      <td>4030</td>\n",
       "      <td>4030</td>\n",
       "      <td>4030</td>\n",
       "      <td>4030</td>\n",
       "      <td>4030</td>\n",
       "      <td>4030</td>\n",
       "      <td>4030</td>\n",
       "      <td>4030</td>\n",
       "    </tr>\n",
       "    <tr>\n",
       "      <th>7</th>\n",
       "      <td>(93.95, 7570.1]</td>\n",
       "      <td>Recommended</td>\n",
       "      <td>9357</td>\n",
       "      <td>9357</td>\n",
       "      <td>9357</td>\n",
       "      <td>9357</td>\n",
       "      <td>9357</td>\n",
       "      <td>9357</td>\n",
       "      <td>9357</td>\n",
       "      <td>9357</td>\n",
       "      <td>9357</td>\n",
       "    </tr>\n",
       "  </tbody>\n",
       "</table>\n",
       "</div>"
      ],
      "text/plain": [
       "       HoursBinned  recommendations  helpful  hours  review   date   Help  \\\n",
       "0    (0.099, 12.4]  Not Recommended    10137  10137   10137  10137  10137   \n",
       "1    (0.099, 12.4]      Recommended     3257   3257    3257   3257   3257   \n",
       "2     (12.4, 40.2]  Not Recommended     6285   6285    6285   6285   6285   \n",
       "3     (12.4, 40.2]      Recommended     7111   7111    7111   7111   7111   \n",
       "4    (40.2, 93.95]  Not Recommended     4998   4998    4998   4998   4998   \n",
       "5    (40.2, 93.95]      Recommended     8372   8372    8372   8372   8372   \n",
       "6  (93.95, 7570.1]  Not Recommended     4030   4030    4030   4030   4030   \n",
       "7  (93.95, 7570.1]      Recommended     9357   9357    9357   9357   9357   \n",
       "\n",
       "   funny  Month    Day   Year  \n",
       "0  10137  10137  10137  10137  \n",
       "1   3257   3257   3257   3257  \n",
       "2   6285   6285   6285   6285  \n",
       "3   7111   7111   7111   7111  \n",
       "4   4998   4998   4998   4998  \n",
       "5   8372   8372   8372   8372  \n",
       "6   4030   4030   4030   4030  \n",
       "7   9357   9357   9357   9357  "
      ]
     },
     "execution_count": 27,
     "metadata": {},
     "output_type": "execute_result"
    }
   ],
   "source": [
    "#Hoursbinned and recommendations \n",
    "c=BF.groupby([\"HoursBinned\",\"recommendations\"]).count().reset_index()\n",
    "c"
   ]
  },
  {
   "cell_type": "code",
   "execution_count": 28,
   "id": "b269cb0e",
   "metadata": {},
   "outputs": [
    {
     "data": {
      "text/plain": [
       "Power_divergenceResult(statistic=array([3387.8621611 , 3054.82446525]), pvalue=array([0., 0.]))"
      ]
     },
     "execution_count": 28,
     "metadata": {},
     "output_type": "execute_result"
    }
   ],
   "source": [
    "#calculate chisquare test for hours played and recommendate, the more hours somone has \n",
    "#the more likely they would recommend this game\n",
    "NumberofNonRecommended=c[c[\"recommendations\"]== \"Not Recommended\"][\"helpful\"].to_numpy()\n",
    "NumberofRecommended=c[c[\"recommendations\"]== \"Recommended\"][\"helpful\"].to_numpy()\n",
    "\n",
    "d=np.array([NumberofNonRecommended,NumberofRecommended]).T\n",
    "chisquare(d)"
   ]
  },
  {
   "cell_type": "code",
   "execution_count": 29,
   "id": "231617fc",
   "metadata": {},
   "outputs": [
    {
     "data": {
      "text/plain": [
       "<AxesSubplot:xlabel='hours', ylabel='Help'>"
      ]
     },
     "execution_count": 29,
     "metadata": {},
     "output_type": "execute_result"
    },
    {
     "data": {
      "image/png": "[encoded data removed]",
      "text/plain": [
       "<Figure size 432x288 with 1 Axes>"
      ]
     },
     "metadata": {
      "needs_background": "light"
     },
     "output_type": "display_data"
    }
   ],
   "source": [
    "#there is no correlation between hours played and if the review was helpful for some people\n",
    "BF.plot.scatter(x = \"hours\",\n",
    "               y=\"Help\")"
   ]
  },
  {
   "cell_type": "code",
   "execution_count": 30,
   "id": "b7ef5197",
   "metadata": {},
   "outputs": [
    {
     "data": {
      "text/plain": [
       "<AxesSubplot:xlabel='hours', ylabel='funny'>"
      ]
     },
     "execution_count": 30,
     "metadata": {},
     "output_type": "execute_result"
    },
    {
     "data": {
      "image/png": "[encoded data removed]",
      "text/plain": [
       "<Figure size 432x288 with 1 Axes>"
      ]
     },
     "metadata": {
      "needs_background": "light"
     },
     "output_type": "display_data"
    }
   ],
   "source": [
    "#there is no correlation between hours played and if the review was funny for some people\n",
    "BF.plot.scatter(x = \"hours\",\n",
    "               y=\"funny\")"
   ]
  },
  {
   "cell_type": "code",
   "execution_count": 31,
   "id": "8ad33f38",
   "metadata": {},
   "outputs": [
    {
     "data": {
      "text/plain": [
       "<AxesSubplot:xlabel='funny', ylabel='Help'>"
      ]
     },
     "execution_count": 31,
     "metadata": {},
     "output_type": "execute_result"
    },
    {
     "data": {
      "image/png": "[encoded data removed]",
      "text/plain": [
       "<Figure size 432x288 with 1 Axes>"
      ]
     },
     "metadata": {
      "needs_background": "light"
     },
     "output_type": "display_data"
    }
   ],
   "source": [
    "#seems to be correlation between Helpful and funny\n",
    "BF.plot.scatter(x = \"funny\",\n",
    "               y=\"Help\")"
   ]
  },
  {
   "cell_type": "code",
   "execution_count": 37,
   "id": "e5dd19b3",
   "metadata": {},
   "outputs": [],
   "source": [
    "#Put positive reviews in one variable\n",
    "postive = BF[BF[\"recommendations\"] == \"Recommended\"]\n",
    "pos_list = postive[\"review\"].tolist()\n",
    "\n",
    "#Put negative reviews in another variable\n",
    "neg = BF[BF[\"recommendations\"] == \"Not Recommended\"]\n",
    "neg_list = neg[\"review\"].tolist()"
   ]
  },
  {
   "cell_type": "code",
   "execution_count": 38,
   "id": "5988f157",
   "metadata": {},
   "outputs": [],
   "source": [
    "#lower the words in both variables\n",
    "pos_list_lowered = [word.lower() for word in pos_list] \n",
    "neg_list_lowered = [word.lower() for word in neg_list]"
   ]
  },
  {
   "cell_type": "code",
   "execution_count": 68,
   "id": "d0078947",
   "metadata": {},
   "outputs": [],
   "source": [
    "# add all the tuples together with a space inbetween\n",
    "pos_list_to_string = ' '.join([str(elem) for elem in pos_list_lowered])  \n",
    "neg_list_to_string = ' '.join([str(elem) for elem in neg_list_lowered])"
   ]
  },
  {
   "cell_type": "code",
   "execution_count": 74,
   "id": "342913a4",
   "metadata": {},
   "outputs": [],
   "source": [
    "mylist = [\"get\",\"game\",\"play\",\"still\"]"
   ]
  },
  {
   "cell_type": "code",
   "execution_count": 95,
   "id": "006e1484",
   "metadata": {},
   "outputs": [],
   "source": [
    "#create stop words\n",
    "stop = set(stopwords.words('english') + list(string.punctuation) + mylist)"
   ]
  },
  {
   "cell_type": "code",
   "execution_count": 96,
   "id": "4611c488",
   "metadata": {},
   "outputs": [],
   "source": [
    "# words will be separated based on whitespace\n",
    "tokenizer = WhitespaceTokenizer()"
   ]
  },
  {
   "cell_type": "code",
   "execution_count": 97,
   "id": "27cd3fa3",
   "metadata": {},
   "outputs": [],
   "source": [
    "#remove stops words from list\n",
    "filtered_pos_list = [w for w in tokenizer.tokenize(pos_list_to_string) if w not in stop] \n",
    "\n",
    "filtered_neg_list = [w for w in tokenizer.tokenize(neg_list_to_string) if w not in stop]"
   ]
  },
  {
   "cell_type": "code",
   "execution_count": 98,
   "id": "ad64019c",
   "metadata": {},
   "outputs": [],
   "source": [
    "#remove punctuation\n",
    "filtered_pos_list2 = [w.strip(string.punctuation) for w in filtered_pos_list]\n",
    "filtered_neg_list2 = [w.strip(string.punctuation) for w in filtered_neg_list]"
   ]
  },
  {
   "cell_type": "code",
   "execution_count": 99,
   "id": "ba1fd4e9",
   "metadata": {},
   "outputs": [],
   "source": [
    "#check the frequency of words\n",
    "fd_pos = nltk.FreqDist(filtered_pos_list2) \n",
    "fd_neg = nltk.FreqDist(filtered_neg_list2)"
   ]
  },
  {
   "cell_type": "code",
   "execution_count": 100,
   "id": "70bac6a1",
   "metadata": {},
   "outputs": [
    {
     "data": {
      "text/plain": [
       "FreqDist({'fun': 7807, 'good': 5278, 'battlefield': 5044, 'like': 4305, 'game': 4227, 'bugs': 3109, 'better': 2923, 'great': 2292, 'really': 2210, 'bad': 2206, ...})"
      ]
     },
     "execution_count": 100,
     "metadata": {},
     "output_type": "execute_result"
    }
   ],
   "source": [
    "fd_pos"
   ]
  },
  {
   "cell_type": "code",
   "execution_count": 101,
   "id": "fdde4c51",
   "metadata": {},
   "outputs": [
    {
     "data": {
      "text/plain": [
       "FreqDist({'battlefield': 5492, 'game': 4447, 'like': 3755, 'even': 3237, 'refund': 2786, 'bad': 2568, 'money': 2427, 'time': 2163, 'buy': 2060, 'ea': 1944, ...})"
      ]
     },
     "execution_count": 101,
     "metadata": {},
     "output_type": "execute_result"
    }
   ],
   "source": [
    "fd_neg"
   ]
  },
  {
   "cell_type": "code",
   "execution_count": null,
   "id": "f9b15fe3",
   "metadata": {},
   "outputs": [],
   "source": []
  }
 ],
 "metadata": {
  "kernelspec": {
   "display_name": "Python 3 (ipykernel)",
   "language": "python",
   "name": "python3"
  },
  "language_info": {
   "codemirror_mode": {
    "name": "ipython",
    "version": 3
   },
   "file_extension": ".py",
   "mimetype": "text/x-python",
   "name": "python",
   "nbconvert_exporter": "python",
   "pygments_lexer": "ipython3",
   "version": "3.10.10"
  }
 },
 "nbformat": 4,
 "nbformat_minor": 5
}
