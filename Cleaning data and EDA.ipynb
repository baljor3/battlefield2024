{
 "cells": [
  {
   "cell_type": "code",
   "execution_count": 71,
   "id": "2719bde9",
   "metadata": {},
   "outputs": [],
   "source": [
    "import pandas as pd\n",
    "import numpy as np\n",
    "import re\n",
    "import datetime\n",
    "from scipy.stats import chisquare"
   ]
  },
  {
   "cell_type": "code",
   "execution_count": 2,
   "id": "7a253e0e",
   "metadata": {},
   "outputs": [],
   "source": [
    "#read csv\n",
    "BF=pd.read_csv(\"Battlefieldreviews.csv\")"
   ]
  },
  {
   "cell_type": "code",
   "execution_count": 78,
   "id": "50320fc8",
   "metadata": {},
   "outputs": [
    {
     "data": {
      "text/html": [
       "<div>\n",
       "<style scoped>\n",
       "    .dataframe tbody tr th:only-of-type {\n",
       "        vertical-align: middle;\n",
       "    }\n",
       "\n",
       "    .dataframe tbody tr th {\n",
       "        vertical-align: top;\n",
       "    }\n",
       "\n",
       "    .dataframe thead th {\n",
       "        text-align: right;\n",
       "    }\n",
       "</style>\n",
       "<table border=\"1\" class=\"dataframe\">\n",
       "  <thead>\n",
       "    <tr style=\"text-align: right;\">\n",
       "      <th></th>\n",
       "      <th>Unnamed: 0</th>\n",
       "      <th>helpful</th>\n",
       "      <th>recommendations</th>\n",
       "      <th>hours</th>\n",
       "      <th>review</th>\n",
       "      <th>date</th>\n",
       "      <th>Help</th>\n",
       "      <th>funny</th>\n",
       "      <th>Month</th>\n",
       "      <th>Day</th>\n",
       "      <th>Year</th>\n",
       "      <th>HoursBinned</th>\n",
       "    </tr>\n",
       "  </thead>\n",
       "  <tbody>\n",
       "    <tr>\n",
       "      <th>0</th>\n",
       "      <td>0</td>\n",
       "      <td>No one has rated this review as helpful yet0</td>\n",
       "      <td>Recommended</td>\n",
       "      <td>95.9</td>\n",
       "      <td>Pretty good now, shame it took this long to ge...</td>\n",
       "      <td>27 January</td>\n",
       "      <td>0.0</td>\n",
       "      <td>0.0</td>\n",
       "      <td>January</td>\n",
       "      <td>27</td>\n",
       "      <td>2023.0</td>\n",
       "      <td>(93.95, 7570.1]</td>\n",
       "    </tr>\n",
       "    <tr>\n",
       "      <th>1</th>\n",
       "      <td>1</td>\n",
       "      <td>No one has rated this review as helpful yet0</td>\n",
       "      <td>Recommended</td>\n",
       "      <td>1.0</td>\n",
       "      <td>surprisingly good! Shields are OP :) one hit k...</td>\n",
       "      <td>27 January</td>\n",
       "      <td>0.0</td>\n",
       "      <td>0.0</td>\n",
       "      <td>January</td>\n",
       "      <td>27</td>\n",
       "      <td>2023.0</td>\n",
       "      <td>(0.099, 12.4]</td>\n",
       "    </tr>\n",
       "    <tr>\n",
       "      <th>2</th>\n",
       "      <td>2</td>\n",
       "      <td>No one has rated this review as helpful yet0</td>\n",
       "      <td>Recommended</td>\n",
       "      <td>5.5</td>\n",
       "      <td>i got this game today, and played 5.5 hours st...</td>\n",
       "      <td>27 January</td>\n",
       "      <td>0.0</td>\n",
       "      <td>0.0</td>\n",
       "      <td>January</td>\n",
       "      <td>27</td>\n",
       "      <td>2023.0</td>\n",
       "      <td>(0.099, 12.4]</td>\n",
       "    </tr>\n",
       "    <tr>\n",
       "      <th>3</th>\n",
       "      <td>3</td>\n",
       "      <td>1 person found this review helpful0</td>\n",
       "      <td>Recommended</td>\n",
       "      <td>54.8</td>\n",
       "      <td>started out rough but the game has really turn...</td>\n",
       "      <td>27 January</td>\n",
       "      <td>1.0</td>\n",
       "      <td>0.0</td>\n",
       "      <td>January</td>\n",
       "      <td>27</td>\n",
       "      <td>2023.0</td>\n",
       "      <td>(40.2, 93.95]</td>\n",
       "    </tr>\n",
       "    <tr>\n",
       "      <th>4</th>\n",
       "      <td>4</td>\n",
       "      <td>1 person found this review helpful0</td>\n",
       "      <td>Recommended</td>\n",
       "      <td>35.6</td>\n",
       "      <td>Fun game</td>\n",
       "      <td>27 January</td>\n",
       "      <td>1.0</td>\n",
       "      <td>0.0</td>\n",
       "      <td>January</td>\n",
       "      <td>27</td>\n",
       "      <td>2023.0</td>\n",
       "      <td>(12.4, 40.2]</td>\n",
       "    </tr>\n",
       "  </tbody>\n",
       "</table>\n",
       "</div>"
      ],
      "text/plain": [
       "   Unnamed: 0                                       helpful recommendations  \\\n",
       "0           0  No one has rated this review as helpful yet0     Recommended   \n",
       "1           1  No one has rated this review as helpful yet0     Recommended   \n",
       "2           2  No one has rated this review as helpful yet0     Recommended   \n",
       "3           3           1 person found this review helpful0     Recommended   \n",
       "4           4           1 person found this review helpful0     Recommended   \n",
       "\n",
       "   hours                                             review        date  Help  \\\n",
       "0   95.9  Pretty good now, shame it took this long to ge...  27 January   0.0   \n",
       "1    1.0  surprisingly good! Shields are OP :) one hit k...  27 January   0.0   \n",
       "2    5.5  i got this game today, and played 5.5 hours st...  27 January   0.0   \n",
       "3   54.8  started out rough but the game has really turn...  27 January   1.0   \n",
       "4   35.6                                           Fun game  27 January   1.0   \n",
       "\n",
       "   funny    Month Day    Year      HoursBinned  \n",
       "0    0.0  January  27  2023.0  (93.95, 7570.1]  \n",
       "1    0.0  January  27  2023.0    (0.099, 12.4]  \n",
       "2    0.0  January  27  2023.0    (0.099, 12.4]  \n",
       "3    0.0  January  27  2023.0    (40.2, 93.95]  \n",
       "4    0.0  January  27  2023.0     (12.4, 40.2]  "
      ]
     },
     "execution_count": 78,
     "metadata": {},
     "output_type": "execute_result"
    }
   ],
   "source": [
    "#look at data\n",
    "BF.head(5)"
   ]
  },
  {
   "cell_type": "code",
   "execution_count": 4,
   "id": "37d5b4d3",
   "metadata": {},
   "outputs": [],
   "source": [
    "#remove \\t from review column\n",
    "BF['review']=BF.apply(lambda row: re.sub(\"\\t\",\"\",str(row['review'])),axis =1)"
   ]
  },
  {
   "cell_type": "code",
   "execution_count": 5,
   "id": "9508b0bf",
   "metadata": {},
   "outputs": [],
   "source": [
    "#split X amount of people found this helpful and Y amount of people found this funny \n",
    "BF[[\"Help\",\"funny\"]]=BF[\"helpful\"].str.split(n=1,expand= True)"
   ]
  },
  {
   "cell_type": "code",
   "execution_count": 6,
   "id": "4878dbda",
   "metadata": {},
   "outputs": [],
   "source": [
    "#Remove all letters from Help\n",
    "BF['Help']=BF.apply(lambda row: re.sub(\"[A-z]\",\"\",str(row['Help'])),axis =1)"
   ]
  },
  {
   "cell_type": "code",
   "execution_count": 7,
   "id": "efaeb9c6",
   "metadata": {},
   "outputs": [],
   "source": [
    "#remove all letters from funny\n",
    "BF['funny']=BF.apply(lambda row: re.sub(\"[A-z]\",\"\",str(row['funny'])),axis =1)"
   ]
  },
  {
   "cell_type": "code",
   "execution_count": 8,
   "id": "af27aa2a",
   "metadata": {},
   "outputs": [],
   "source": [
    "#remove all letters froms hours\n",
    "BF['hours']=BF.apply(lambda row: re.sub(\"[A-z]\",\"\",str(row['hours'])),axis =1)"
   ]
  },
  {
   "cell_type": "code",
   "execution_count": 9,
   "id": "85716393",
   "metadata": {},
   "outputs": [],
   "source": [
    "# remove spaces in hours\n",
    "BF['hours']=BF.apply(lambda row: re.sub(\" \",\"\",str(row['hours'])),axis =1)"
   ]
  },
  {
   "cell_type": "code",
   "execution_count": 10,
   "id": "11c70857",
   "metadata": {},
   "outputs": [],
   "source": [
    "#remove ',' from hours\n",
    "BF['hours']=BF.apply(lambda row: re.sub(\",\",\"\",str(row['hours'])),axis =1)"
   ]
  },
  {
   "cell_type": "code",
   "execution_count": 11,
   "id": "0ccdff8f",
   "metadata": {},
   "outputs": [],
   "source": [
    "#covert string to float\n",
    "BF[\"hours\"]=BF[\"hours\"].astype(\"float\")"
   ]
  },
  {
   "cell_type": "code",
   "execution_count": 12,
   "id": "c39a99db",
   "metadata": {},
   "outputs": [],
   "source": [
    "#remove posted from date\n",
    "BF[\"date\"] = BF.apply(lambda row: re.sub(\"Posted: \",\"\",str(row[\"date\"])),axis =1)"
   ]
  },
  {
   "cell_type": "code",
   "execution_count": 13,
   "id": "c4e15e79",
   "metadata": {},
   "outputs": [
    {
     "data": {
      "text/plain": [
       "array(['January', 'December', 'November', 'October', 'September',\n",
       "       'August', 'July', 'June', 'May', 'April', 'March', 'February'],\n",
       "      dtype=object)"
      ]
     },
     "execution_count": 13,
     "metadata": {},
     "output_type": "execute_result"
    }
   ],
   "source": [
    "#extract month from date and put it in its column\n",
    "BF[\"Month\"]=BF.apply(lambda row : re.search(\"[A-z]+\", str(row[\"date\"])).group(),axis =1)\n",
    "BF[\"Month\"].unique()"
   ]
  },
  {
   "cell_type": "code",
   "execution_count": 14,
   "id": "b0cae4e1",
   "metadata": {},
   "outputs": [
    {
     "data": {
      "text/plain": [
       "array(['27', '26', '25', '24', '23', '22', '21', '20', '19', '18', '17',\n",
       "       '16', '15', '14', '13', '12', '11', '10', '9', '8', '7', '6', '5',\n",
       "       '4', '3', '2', '1', '31', '30', '29', '28'], dtype=object)"
      ]
     },
     "execution_count": 14,
     "metadata": {},
     "output_type": "execute_result"
    }
   ],
   "source": [
    "#extract day from date\n",
    "BF[\"Day\"]=BF.apply(lambda row : re.search(\"[0-9]+\", str(row[\"date\"])).group(),axis =1)\n",
    "BF[\"Day\"].unique()"
   ]
  },
  {
   "cell_type": "code",
   "execution_count": 15,
   "id": "6a45e160",
   "metadata": {},
   "outputs": [],
   "source": [
    "#extract year from date\n",
    "BF[\"Year\"]=BF.apply(lambda row : re.search(\"[0-9]*$\", str(row[\"date\"])).group(),axis =1)"
   ]
  },
  {
   "cell_type": "code",
   "execution_count": 16,
   "id": "889a7faa",
   "metadata": {},
   "outputs": [
    {
     "name": "stderr",
     "output_type": "stream",
     "text": [
      "C:\\Users\\bobby\\AppData\\Local\\Temp\\ipykernel_8668\\552455930.py:2: FutureWarning: The default value of regex will change from True to False in a future version.\n",
      "  BF[\"Year\"]=BF[\"Year\"].str.replace(\"^..$|^.$\",\"\")\n"
     ]
    }
   ],
   "source": [
    "#remove days from the years column\n",
    "BF[\"Year\"]=BF[\"Year\"].str.replace(\"^..$|^.$\",\"\")"
   ]
  },
  {
   "cell_type": "code",
   "execution_count": 17,
   "id": "0628de2a",
   "metadata": {},
   "outputs": [],
   "source": [
    "#convert year to numeric and fill the nas with 2023 year\n",
    "BF[\"Year\"]=pd.to_numeric(BF[\"Year\"]).fillna(2023)"
   ]
  },
  {
   "cell_type": "code",
   "execution_count": 18,
   "id": "f7665f08",
   "metadata": {},
   "outputs": [],
   "source": [
    "#change help from string to float\n",
    "BF[\"Help\"]=pd.to_numeric(BF[\"Help\"].str.replace(\",\",\"\")).fillna(0)"
   ]
  },
  {
   "cell_type": "code",
   "execution_count": 89,
   "id": "f7d903ff",
   "metadata": {},
   "outputs": [
    {
     "ename": "AttributeError",
     "evalue": "Can only use .str accessor with string values!",
     "output_type": "error",
     "traceback": [
      "\u001b[1;31m---------------------------------------------------------------------------\u001b[0m",
      "\u001b[1;31mAttributeError\u001b[0m                            Traceback (most recent call last)",
      "Input \u001b[1;32mIn [89]\u001b[0m, in \u001b[0;36m<cell line: 2>\u001b[1;34m()\u001b[0m\n\u001b[0;32m      1\u001b[0m \u001b[38;5;66;03m# remove all letters and special charactors and convert string into numeric\u001b[39;00m\n\u001b[1;32m----> 2\u001b[0m BF[\u001b[38;5;124m\"\u001b[39m\u001b[38;5;124mfunny\u001b[39m\u001b[38;5;124m\"\u001b[39m]\u001b[38;5;241m=\u001b[39m\u001b[43mBF\u001b[49m\u001b[43m[\u001b[49m\u001b[38;5;124;43m\"\u001b[39;49m\u001b[38;5;124;43mfunny\u001b[39;49m\u001b[38;5;124;43m\"\u001b[39;49m\u001b[43m]\u001b[49m\u001b[38;5;241;43m.\u001b[39;49m\u001b[43mstr\u001b[49m\u001b[38;5;241m.\u001b[39mreplace(\u001b[38;5;124m\"\u001b[39m\u001b[38;5;124m<.*\u001b[39m\u001b[38;5;124m\"\u001b[39m,\u001b[38;5;124m\"\u001b[39m\u001b[38;5;124m\"\u001b[39m)\n\u001b[0;32m      3\u001b[0m BF[\u001b[38;5;124m\"\u001b[39m\u001b[38;5;124mfunny\u001b[39m\u001b[38;5;124m\"\u001b[39m]\u001b[38;5;241m=\u001b[39mBF[\u001b[38;5;124m\"\u001b[39m\u001b[38;5;124mfunny\u001b[39m\u001b[38;5;124m\"\u001b[39m]\u001b[38;5;241m.\u001b[39mstr\u001b[38;5;241m.\u001b[39mstrip()\n\u001b[0;32m      4\u001b[0m BF[\u001b[38;5;124m\"\u001b[39m\u001b[38;5;124mfunny\u001b[39m\u001b[38;5;124m\"\u001b[39m]\u001b[38;5;241m=\u001b[39mBF[\u001b[38;5;124m\"\u001b[39m\u001b[38;5;124mfunny\u001b[39m\u001b[38;5;124m\"\u001b[39m]\u001b[38;5;241m.\u001b[39mstr\u001b[38;5;241m.\u001b[39mreplace(\u001b[38;5;124m\"\u001b[39m\u001b[38;5;124m[A-z][0-9]\u001b[39m\u001b[38;5;124m\"\u001b[39m,\u001b[38;5;124m\"\u001b[39m\u001b[38;5;124m\"\u001b[39m)\n",
      "File \u001b[1;32m~\\AppData\\Local\\Packages\\PythonSoftwareFoundation.Python.3.10_qbz5n2kfra8p0\\LocalCache\\local-packages\\Python310\\site-packages\\pandas\\core\\generic.py:5575\u001b[0m, in \u001b[0;36mNDFrame.__getattr__\u001b[1;34m(self, name)\u001b[0m\n\u001b[0;32m   5568\u001b[0m \u001b[38;5;28;01mif\u001b[39;00m (\n\u001b[0;32m   5569\u001b[0m     name \u001b[38;5;129;01mnot\u001b[39;00m \u001b[38;5;129;01min\u001b[39;00m \u001b[38;5;28mself\u001b[39m\u001b[38;5;241m.\u001b[39m_internal_names_set\n\u001b[0;32m   5570\u001b[0m     \u001b[38;5;129;01mand\u001b[39;00m name \u001b[38;5;129;01mnot\u001b[39;00m \u001b[38;5;129;01min\u001b[39;00m \u001b[38;5;28mself\u001b[39m\u001b[38;5;241m.\u001b[39m_metadata\n\u001b[0;32m   5571\u001b[0m     \u001b[38;5;129;01mand\u001b[39;00m name \u001b[38;5;129;01mnot\u001b[39;00m \u001b[38;5;129;01min\u001b[39;00m \u001b[38;5;28mself\u001b[39m\u001b[38;5;241m.\u001b[39m_accessors\n\u001b[0;32m   5572\u001b[0m     \u001b[38;5;129;01mand\u001b[39;00m \u001b[38;5;28mself\u001b[39m\u001b[38;5;241m.\u001b[39m_info_axis\u001b[38;5;241m.\u001b[39m_can_hold_identifiers_and_holds_name(name)\n\u001b[0;32m   5573\u001b[0m ):\n\u001b[0;32m   5574\u001b[0m     \u001b[38;5;28;01mreturn\u001b[39;00m \u001b[38;5;28mself\u001b[39m[name]\n\u001b[1;32m-> 5575\u001b[0m \u001b[38;5;28;01mreturn\u001b[39;00m \u001b[38;5;28;43mobject\u001b[39;49m\u001b[38;5;241;43m.\u001b[39;49m\u001b[38;5;21;43m__getattribute__\u001b[39;49m\u001b[43m(\u001b[49m\u001b[38;5;28;43mself\u001b[39;49m\u001b[43m,\u001b[49m\u001b[43m \u001b[49m\u001b[43mname\u001b[49m\u001b[43m)\u001b[49m\n",
      "File \u001b[1;32m~\\AppData\\Local\\Packages\\PythonSoftwareFoundation.Python.3.10_qbz5n2kfra8p0\\LocalCache\\local-packages\\Python310\\site-packages\\pandas\\core\\accessor.py:182\u001b[0m, in \u001b[0;36mCachedAccessor.__get__\u001b[1;34m(self, obj, cls)\u001b[0m\n\u001b[0;32m    179\u001b[0m \u001b[38;5;28;01mif\u001b[39;00m obj \u001b[38;5;129;01mis\u001b[39;00m \u001b[38;5;28;01mNone\u001b[39;00m:\n\u001b[0;32m    180\u001b[0m     \u001b[38;5;66;03m# we're accessing the attribute of the class, i.e., Dataset.geo\u001b[39;00m\n\u001b[0;32m    181\u001b[0m     \u001b[38;5;28;01mreturn\u001b[39;00m \u001b[38;5;28mself\u001b[39m\u001b[38;5;241m.\u001b[39m_accessor\n\u001b[1;32m--> 182\u001b[0m accessor_obj \u001b[38;5;241m=\u001b[39m \u001b[38;5;28;43mself\u001b[39;49m\u001b[38;5;241;43m.\u001b[39;49m\u001b[43m_accessor\u001b[49m\u001b[43m(\u001b[49m\u001b[43mobj\u001b[49m\u001b[43m)\u001b[49m\n\u001b[0;32m    183\u001b[0m \u001b[38;5;66;03m# Replace the property with the accessor object. Inspired by:\u001b[39;00m\n\u001b[0;32m    184\u001b[0m \u001b[38;5;66;03m# https://www.pydanny.com/cached-property.html\u001b[39;00m\n\u001b[0;32m    185\u001b[0m \u001b[38;5;66;03m# We need to use object.__setattr__ because we overwrite __setattr__ on\u001b[39;00m\n\u001b[0;32m    186\u001b[0m \u001b[38;5;66;03m# NDFrame\u001b[39;00m\n\u001b[0;32m    187\u001b[0m \u001b[38;5;28mobject\u001b[39m\u001b[38;5;241m.\u001b[39m\u001b[38;5;21m__setattr__\u001b[39m(obj, \u001b[38;5;28mself\u001b[39m\u001b[38;5;241m.\u001b[39m_name, accessor_obj)\n",
      "File \u001b[1;32m~\\AppData\\Local\\Packages\\PythonSoftwareFoundation.Python.3.10_qbz5n2kfra8p0\\LocalCache\\local-packages\\Python310\\site-packages\\pandas\\core\\strings\\accessor.py:177\u001b[0m, in \u001b[0;36mStringMethods.__init__\u001b[1;34m(self, data)\u001b[0m\n\u001b[0;32m    174\u001b[0m \u001b[38;5;28;01mdef\u001b[39;00m \u001b[38;5;21m__init__\u001b[39m(\u001b[38;5;28mself\u001b[39m, data):\n\u001b[0;32m    175\u001b[0m     \u001b[38;5;28;01mfrom\u001b[39;00m \u001b[38;5;21;01mpandas\u001b[39;00m\u001b[38;5;21;01m.\u001b[39;00m\u001b[38;5;21;01mcore\u001b[39;00m\u001b[38;5;21;01m.\u001b[39;00m\u001b[38;5;21;01marrays\u001b[39;00m\u001b[38;5;21;01m.\u001b[39;00m\u001b[38;5;21;01mstring_\u001b[39;00m \u001b[38;5;28;01mimport\u001b[39;00m StringDtype\n\u001b[1;32m--> 177\u001b[0m     \u001b[38;5;28mself\u001b[39m\u001b[38;5;241m.\u001b[39m_inferred_dtype \u001b[38;5;241m=\u001b[39m \u001b[38;5;28;43mself\u001b[39;49m\u001b[38;5;241;43m.\u001b[39;49m\u001b[43m_validate\u001b[49m\u001b[43m(\u001b[49m\u001b[43mdata\u001b[49m\u001b[43m)\u001b[49m\n\u001b[0;32m    178\u001b[0m     \u001b[38;5;28mself\u001b[39m\u001b[38;5;241m.\u001b[39m_is_categorical \u001b[38;5;241m=\u001b[39m is_categorical_dtype(data\u001b[38;5;241m.\u001b[39mdtype)\n\u001b[0;32m    179\u001b[0m     \u001b[38;5;28mself\u001b[39m\u001b[38;5;241m.\u001b[39m_is_string \u001b[38;5;241m=\u001b[39m \u001b[38;5;28misinstance\u001b[39m(data\u001b[38;5;241m.\u001b[39mdtype, StringDtype)\n",
      "File \u001b[1;32m~\\AppData\\Local\\Packages\\PythonSoftwareFoundation.Python.3.10_qbz5n2kfra8p0\\LocalCache\\local-packages\\Python310\\site-packages\\pandas\\core\\strings\\accessor.py:231\u001b[0m, in \u001b[0;36mStringMethods._validate\u001b[1;34m(data)\u001b[0m\n\u001b[0;32m    228\u001b[0m inferred_dtype \u001b[38;5;241m=\u001b[39m lib\u001b[38;5;241m.\u001b[39minfer_dtype(values, skipna\u001b[38;5;241m=\u001b[39m\u001b[38;5;28;01mTrue\u001b[39;00m)\n\u001b[0;32m    230\u001b[0m \u001b[38;5;28;01mif\u001b[39;00m inferred_dtype \u001b[38;5;129;01mnot\u001b[39;00m \u001b[38;5;129;01min\u001b[39;00m allowed_types:\n\u001b[1;32m--> 231\u001b[0m     \u001b[38;5;28;01mraise\u001b[39;00m \u001b[38;5;167;01mAttributeError\u001b[39;00m(\u001b[38;5;124m\"\u001b[39m\u001b[38;5;124mCan only use .str accessor with string values!\u001b[39m\u001b[38;5;124m\"\u001b[39m)\n\u001b[0;32m    232\u001b[0m \u001b[38;5;28;01mreturn\u001b[39;00m inferred_dtype\n",
      "\u001b[1;31mAttributeError\u001b[0m: Can only use .str accessor with string values!"
     ]
    }
   ],
   "source": [
    "# remove all letters and special charactors and convert string into numeric\n",
    "BF[\"funny\"]=BF[\"funny\"].str.replace(\"<.*\",\"\")\n",
    "BF[\"funny\"]=BF[\"funny\"].str.strip()\n",
    "BF[\"funny\"]=BF[\"funny\"].str.replace(\"[A-z][0-9]\",\"\")\n",
    "BF[\"funny\"]=BF[\"funny\"].str.replace(\" [0-9]$\",\"\")\n",
    "BF[\"funny\"]=BF[\"funny\"].str.replace(\",\",\"\")\n",
    "BF[\"funny\"]=pd.to_numeric(BF[\"funny\"])\n",
    "BF[\"funny\"]=BF[\"funny\"].fillna(0)"
   ]
  },
  {
   "cell_type": "code",
   "execution_count": 30,
   "id": "de9a4b39",
   "metadata": {},
   "outputs": [
    {
     "data": {
      "text/html": [
       "<div>\n",
       "<style scoped>\n",
       "    .dataframe tbody tr th:only-of-type {\n",
       "        vertical-align: middle;\n",
       "    }\n",
       "\n",
       "    .dataframe tbody tr th {\n",
       "        vertical-align: top;\n",
       "    }\n",
       "\n",
       "    .dataframe thead th {\n",
       "        text-align: right;\n",
       "    }\n",
       "</style>\n",
       "<table border=\"1\" class=\"dataframe\">\n",
       "  <thead>\n",
       "    <tr style=\"text-align: right;\">\n",
       "      <th></th>\n",
       "      <th>Unnamed: 0</th>\n",
       "      <th>hours</th>\n",
       "      <th>Help</th>\n",
       "      <th>funny</th>\n",
       "      <th>Year</th>\n",
       "    </tr>\n",
       "  </thead>\n",
       "  <tbody>\n",
       "    <tr>\n",
       "      <th>count</th>\n",
       "      <td>53547.000000</td>\n",
       "      <td>53547.000000</td>\n",
       "      <td>53547.000000</td>\n",
       "      <td>51188.000000</td>\n",
       "      <td>53547.000000</td>\n",
       "    </tr>\n",
       "    <tr>\n",
       "      <th>mean</th>\n",
       "      <td>26773.000000</td>\n",
       "      <td>79.308611</td>\n",
       "      <td>5.103180</td>\n",
       "      <td>2.077264</td>\n",
       "      <td>2021.614376</td>\n",
       "    </tr>\n",
       "    <tr>\n",
       "      <th>std</th>\n",
       "      <td>15457.831769</td>\n",
       "      <td>136.645217</td>\n",
       "      <td>104.535163</td>\n",
       "      <td>66.637397</td>\n",
       "      <td>0.532025</td>\n",
       "    </tr>\n",
       "    <tr>\n",
       "      <th>min</th>\n",
       "      <td>0.000000</td>\n",
       "      <td>0.100000</td>\n",
       "      <td>0.000000</td>\n",
       "      <td>0.000000</td>\n",
       "      <td>2021.000000</td>\n",
       "    </tr>\n",
       "    <tr>\n",
       "      <th>25%</th>\n",
       "      <td>13386.500000</td>\n",
       "      <td>12.400000</td>\n",
       "      <td>0.000000</td>\n",
       "      <td>0.000000</td>\n",
       "      <td>2021.000000</td>\n",
       "    </tr>\n",
       "    <tr>\n",
       "      <th>50%</th>\n",
       "      <td>26773.000000</td>\n",
       "      <td>40.200000</td>\n",
       "      <td>1.000000</td>\n",
       "      <td>0.000000</td>\n",
       "      <td>2022.000000</td>\n",
       "    </tr>\n",
       "    <tr>\n",
       "      <th>75%</th>\n",
       "      <td>40159.500000</td>\n",
       "      <td>93.950000</td>\n",
       "      <td>2.000000</td>\n",
       "      <td>0.000000</td>\n",
       "      <td>2022.000000</td>\n",
       "    </tr>\n",
       "    <tr>\n",
       "      <th>max</th>\n",
       "      <td>53546.000000</td>\n",
       "      <td>7570.100000</td>\n",
       "      <td>12385.000000</td>\n",
       "      <td>8990.000000</td>\n",
       "      <td>2023.000000</td>\n",
       "    </tr>\n",
       "  </tbody>\n",
       "</table>\n",
       "</div>"
      ],
      "text/plain": [
       "         Unnamed: 0         hours          Help         funny          Year\n",
       "count  53547.000000  53547.000000  53547.000000  51188.000000  53547.000000\n",
       "mean   26773.000000     79.308611      5.103180      2.077264   2021.614376\n",
       "std    15457.831769    136.645217    104.535163     66.637397      0.532025\n",
       "min        0.000000      0.100000      0.000000      0.000000   2021.000000\n",
       "25%    13386.500000     12.400000      0.000000      0.000000   2021.000000\n",
       "50%    26773.000000     40.200000      1.000000      0.000000   2022.000000\n",
       "75%    40159.500000     93.950000      2.000000      0.000000   2022.000000\n",
       "max    53546.000000   7570.100000  12385.000000   8990.000000   2023.000000"
      ]
     },
     "execution_count": 30,
     "metadata": {},
     "output_type": "execute_result"
    }
   ],
   "source": [
    "#looking at data\n",
    "BF.describe()"
   ]
  },
  {
   "cell_type": "code",
   "execution_count": 33,
   "id": "10009c78",
   "metadata": {},
   "outputs": [
    {
     "data": {
      "text/plain": [
       "array([[<AxesSubplot:title={'center':'hours'}>,\n",
       "        <AxesSubplot:title={'center':'Help'}>],\n",
       "       [<AxesSubplot:title={'center':'funny'}>, <AxesSubplot:>]],\n",
       "      dtype=object)"
      ]
     },
     "execution_count": 33,
     "metadata": {},
     "output_type": "execute_result"
    },
    {
     "data": {
      "image/png": "[encoded data removed]",
      "text/plain": [
       "<Figure size 432x288 with 4 Axes>"
      ]
     },
     "metadata": {
      "needs_background": "light"
     },
     "output_type": "display_data"
    }
   ],
   "source": [
    "BF[[\"hours\",\"Help\",\"funny\"]].hist()"
   ]
  },
  {
   "cell_type": "code",
   "execution_count": 43,
   "id": "d975967c",
   "metadata": {},
   "outputs": [
    {
     "data": {
      "text/plain": [
       "<AxesSubplot:>"
      ]
     },
     "execution_count": 43,
     "metadata": {},
     "output_type": "execute_result"
    },
    {
     "data": {
      "image/png": "[encoded data removed]",
      "text/plain": [
       "<Figure size 432x288 with 1 Axes>"
      ]
     },
     "metadata": {
      "needs_background": "light"
     },
     "output_type": "display_data"
    }
   ],
   "source": [
    "#Majority of players that recommended the game are between 0 to 600 hours played\n",
    "BF.loc[BF[\"recommendations\"]== 'Recommended'][\"hours\"].hist()"
   ]
  },
  {
   "cell_type": "code",
   "execution_count": 48,
   "id": "ef4b50d3",
   "metadata": {},
   "outputs": [
    {
     "data": {
      "text/plain": [
       "<AxesSubplot:>"
      ]
     },
     "execution_count": 48,
     "metadata": {},
     "output_type": "execute_result"
    },
    {
     "data": {
      "image/png": "[encoded data removed]",
      "text/plain": [
       "<Figure size 432x288 with 1 Axes>"
      ]
     },
     "metadata": {
      "needs_background": "light"
     },
     "output_type": "display_data"
    }
   ],
   "source": [
    "#Majority of players that do not recommended the game are between 0 to 600 hours played\n",
    "BF.loc[BF[\"recommendations\"]== 'Not Recommended'][\"hours\"].hist()"
   ]
  },
  {
   "cell_type": "code",
   "execution_count": 79,
   "id": "961eb6ad",
   "metadata": {},
   "outputs": [
    {
     "data": {
      "text/plain": [
       "0        (93.95, 7570.1]\n",
       "1          (0.099, 12.4]\n",
       "2          (0.099, 12.4]\n",
       "3          (40.2, 93.95]\n",
       "4           (12.4, 40.2]\n",
       "              ...       \n",
       "53542      (0.099, 12.4]\n",
       "53543      (0.099, 12.4]\n",
       "53544      (0.099, 12.4]\n",
       "53545      (0.099, 12.4]\n",
       "53546       (12.4, 40.2]\n",
       "Name: HoursBinned, Length: 53547, dtype: category\n",
       "Categories (4, interval[float64, right]): [(0.099, 12.4] < (12.4, 40.2] < (40.2, 93.95] < (93.95, 7570.1]]"
      ]
     },
     "execution_count": 79,
     "metadata": {},
     "output_type": "execute_result"
    }
   ],
   "source": [
    "#HoursBinned\n",
    "BF[\"HoursBinned\"]=pd.qcut(BF[\"hours\"],q=4)\n",
    "BF[\"HoursBinned\"]"
   ]
  },
  {
   "cell_type": "code",
   "execution_count": 94,
   "id": "fc6bdcb2",
   "metadata": {},
   "outputs": [
    {
     "data": {
      "text/html": [
       "<div>\n",
       "<style scoped>\n",
       "    .dataframe tbody tr th:only-of-type {\n",
       "        vertical-align: middle;\n",
       "    }\n",
       "\n",
       "    .dataframe tbody tr th {\n",
       "        vertical-align: top;\n",
       "    }\n",
       "\n",
       "    .dataframe thead th {\n",
       "        text-align: right;\n",
       "    }\n",
       "</style>\n",
       "<table border=\"1\" class=\"dataframe\">\n",
       "  <thead>\n",
       "    <tr style=\"text-align: right;\">\n",
       "      <th></th>\n",
       "      <th>HoursBinned</th>\n",
       "      <th>recommendations</th>\n",
       "      <th>Unnamed: 0</th>\n",
       "      <th>helpful</th>\n",
       "      <th>hours</th>\n",
       "      <th>review</th>\n",
       "      <th>date</th>\n",
       "      <th>Help</th>\n",
       "      <th>funny</th>\n",
       "      <th>Month</th>\n",
       "      <th>Day</th>\n",
       "      <th>Year</th>\n",
       "    </tr>\n",
       "  </thead>\n",
       "  <tbody>\n",
       "    <tr>\n",
       "      <th>0</th>\n",
       "      <td>(0.099, 12.4]</td>\n",
       "      <td>Not Recommended</td>\n",
       "      <td>10137</td>\n",
       "      <td>10137</td>\n",
       "      <td>10137</td>\n",
       "      <td>10137</td>\n",
       "      <td>10137</td>\n",
       "      <td>10137</td>\n",
       "      <td>10137</td>\n",
       "      <td>10137</td>\n",
       "      <td>10137</td>\n",
       "      <td>10137</td>\n",
       "    </tr>\n",
       "    <tr>\n",
       "      <th>1</th>\n",
       "      <td>(0.099, 12.4]</td>\n",
       "      <td>Recommended</td>\n",
       "      <td>3257</td>\n",
       "      <td>3257</td>\n",
       "      <td>3257</td>\n",
       "      <td>3257</td>\n",
       "      <td>3257</td>\n",
       "      <td>3257</td>\n",
       "      <td>3257</td>\n",
       "      <td>3257</td>\n",
       "      <td>3257</td>\n",
       "      <td>3257</td>\n",
       "    </tr>\n",
       "    <tr>\n",
       "      <th>2</th>\n",
       "      <td>(12.4, 40.2]</td>\n",
       "      <td>Not Recommended</td>\n",
       "      <td>6285</td>\n",
       "      <td>6285</td>\n",
       "      <td>6285</td>\n",
       "      <td>6285</td>\n",
       "      <td>6285</td>\n",
       "      <td>6285</td>\n",
       "      <td>6285</td>\n",
       "      <td>6285</td>\n",
       "      <td>6285</td>\n",
       "      <td>6285</td>\n",
       "    </tr>\n",
       "    <tr>\n",
       "      <th>3</th>\n",
       "      <td>(12.4, 40.2]</td>\n",
       "      <td>Recommended</td>\n",
       "      <td>7111</td>\n",
       "      <td>7111</td>\n",
       "      <td>7111</td>\n",
       "      <td>7111</td>\n",
       "      <td>7111</td>\n",
       "      <td>7111</td>\n",
       "      <td>7111</td>\n",
       "      <td>7111</td>\n",
       "      <td>7111</td>\n",
       "      <td>7111</td>\n",
       "    </tr>\n",
       "    <tr>\n",
       "      <th>4</th>\n",
       "      <td>(40.2, 93.95]</td>\n",
       "      <td>Not Recommended</td>\n",
       "      <td>4998</td>\n",
       "      <td>4998</td>\n",
       "      <td>4998</td>\n",
       "      <td>4998</td>\n",
       "      <td>4998</td>\n",
       "      <td>4998</td>\n",
       "      <td>4998</td>\n",
       "      <td>4998</td>\n",
       "      <td>4998</td>\n",
       "      <td>4998</td>\n",
       "    </tr>\n",
       "    <tr>\n",
       "      <th>5</th>\n",
       "      <td>(40.2, 93.95]</td>\n",
       "      <td>Recommended</td>\n",
       "      <td>8372</td>\n",
       "      <td>8372</td>\n",
       "      <td>8372</td>\n",
       "      <td>8372</td>\n",
       "      <td>8372</td>\n",
       "      <td>8372</td>\n",
       "      <td>8372</td>\n",
       "      <td>8372</td>\n",
       "      <td>8372</td>\n",
       "      <td>8372</td>\n",
       "    </tr>\n",
       "    <tr>\n",
       "      <th>6</th>\n",
       "      <td>(93.95, 7570.1]</td>\n",
       "      <td>Not Recommended</td>\n",
       "      <td>4030</td>\n",
       "      <td>4030</td>\n",
       "      <td>4030</td>\n",
       "      <td>4030</td>\n",
       "      <td>4030</td>\n",
       "      <td>4030</td>\n",
       "      <td>4030</td>\n",
       "      <td>4030</td>\n",
       "      <td>4030</td>\n",
       "      <td>4030</td>\n",
       "    </tr>\n",
       "    <tr>\n",
       "      <th>7</th>\n",
       "      <td>(93.95, 7570.1]</td>\n",
       "      <td>Recommended</td>\n",
       "      <td>9357</td>\n",
       "      <td>9357</td>\n",
       "      <td>9357</td>\n",
       "      <td>9357</td>\n",
       "      <td>9357</td>\n",
       "      <td>9357</td>\n",
       "      <td>9357</td>\n",
       "      <td>9357</td>\n",
       "      <td>9357</td>\n",
       "      <td>9357</td>\n",
       "    </tr>\n",
       "  </tbody>\n",
       "</table>\n",
       "</div>"
      ],
      "text/plain": [
       "       HoursBinned  recommendations  Unnamed: 0  helpful  hours  review  \\\n",
       "0    (0.099, 12.4]  Not Recommended       10137    10137  10137   10137   \n",
       "1    (0.099, 12.4]      Recommended        3257     3257   3257    3257   \n",
       "2     (12.4, 40.2]  Not Recommended        6285     6285   6285    6285   \n",
       "3     (12.4, 40.2]      Recommended        7111     7111   7111    7111   \n",
       "4    (40.2, 93.95]  Not Recommended        4998     4998   4998    4998   \n",
       "5    (40.2, 93.95]      Recommended        8372     8372   8372    8372   \n",
       "6  (93.95, 7570.1]  Not Recommended        4030     4030   4030    4030   \n",
       "7  (93.95, 7570.1]      Recommended        9357     9357   9357    9357   \n",
       "\n",
       "    date   Help  funny  Month    Day   Year  \n",
       "0  10137  10137  10137  10137  10137  10137  \n",
       "1   3257   3257   3257   3257   3257   3257  \n",
       "2   6285   6285   6285   6285   6285   6285  \n",
       "3   7111   7111   7111   7111   7111   7111  \n",
       "4   4998   4998   4998   4998   4998   4998  \n",
       "5   8372   8372   8372   8372   8372   8372  \n",
       "6   4030   4030   4030   4030   4030   4030  \n",
       "7   9357   9357   9357   9357   9357   9357  "
      ]
     },
     "execution_count": 94,
     "metadata": {},
     "output_type": "execute_result"
    }
   ],
   "source": [
    "#Hoursbinned and recommendations \n",
    "c=BF.groupby([\"HoursBinned\",\"recommendations\"]).count().reset_index()\n",
    "c"
   ]
  },
  {
   "cell_type": "code",
   "execution_count": 124,
   "id": "b269cb0e",
   "metadata": {},
   "outputs": [
    {
     "data": {
      "text/plain": [
       "Power_divergenceResult(statistic=array([3387.8621611 , 3054.82446525]), pvalue=array([0., 0.]))"
      ]
     },
     "execution_count": 124,
     "metadata": {},
     "output_type": "execute_result"
    }
   ],
   "source": [
    "#calculate chisquare test for hours played and recommendate, the more hours somone has \n",
    "#the more likely they would recommend this game\n",
    "NumberofNonRecommended=c[c[\"recommendations\"]== \"Not Recommended\"][\"helpful\"].to_numpy()\n",
    "NumberofRecommended=c[c[\"recommendations\"]== \"Recommended\"][\"helpful\"].to_numpy()\n",
    "\n",
    "d=np.array([NumberofNonRecommended,NumberofRecommended]).T\n",
    "chisquare(d)"
   ]
  },
  {
   "cell_type": "code",
   "execution_count": 49,
   "id": "231617fc",
   "metadata": {},
   "outputs": [
    {
     "data": {
      "text/plain": [
       "<AxesSubplot:xlabel='hours', ylabel='Help'>"
      ]
     },
     "execution_count": 49,
     "metadata": {},
     "output_type": "execute_result"
    },
    {
     "data": {
      "image/png": "[encoded data removed]",
      "text/plain": [
       "<Figure size 432x288 with 1 Axes>"
      ]
     },
     "metadata": {
      "needs_background": "light"
     },
     "output_type": "display_data"
    }
   ],
   "source": [
    "#there is no correlation between hours played and if the review was helpful for some people\n",
    "BF.plot.scatter(x = \"hours\",\n",
    "               y=\"Help\")"
   ]
  },
  {
   "cell_type": "code",
   "execution_count": 58,
   "id": "b7ef5197",
   "metadata": {},
   "outputs": [
    {
     "data": {
      "text/plain": [
       "<AxesSubplot:xlabel='hours', ylabel='funny'>"
      ]
     },
     "execution_count": 58,
     "metadata": {},
     "output_type": "execute_result"
    },
    {
     "data": {
      "image/png": "[encoded data removed]",
      "text/plain": [
       "<Figure size 432x288 with 1 Axes>"
      ]
     },
     "metadata": {
      "needs_background": "light"
     },
     "output_type": "display_data"
    }
   ],
   "source": [
    "#there is no correlation between hours played and if the review was funny for some people\n",
    "BF.plot.scatter(x = \"hours\",\n",
    "               y=\"funny\")"
   ]
  },
  {
   "cell_type": "code",
   "execution_count": 91,
   "id": "8ad33f38",
   "metadata": {},
   "outputs": [
    {
     "data": {
      "text/plain": [
       "<AxesSubplot:xlabel='funny', ylabel='Help'>"
      ]
     },
     "execution_count": 91,
     "metadata": {},
     "output_type": "execute_result"
    },
    {
     "data": {
      "image/png": "[encoded data removed]",
      "text/plain": [
       "<Figure size 432x288 with 1 Axes>"
      ]
     },
     "metadata": {
      "needs_background": "light"
     },
     "output_type": "display_data"
    }
   ],
   "source": [
    "#seems to be correlation between Helpful and funny\n",
    "BF.plot.scatter(x = \"funny\",\n",
    "               y=\"Help\")"
   ]
  },
  {
   "cell_type": "code",
   "execution_count": 90,
   "id": "e5dd19b3",
   "metadata": {},
   "outputs": [],
   "source": []
  },
  {
   "cell_type": "code",
   "execution_count": null,
   "id": "5988f157",
   "metadata": {},
   "outputs": [],
   "source": []
  }
 ],
 "metadata": {
  "kernelspec": {
   "display_name": "Python 3 (ipykernel)",
   "language": "python",
   "name": "python3"
  },
  "language_info": {
   "codemirror_mode": {
    "name": "ipython",
    "version": 3
   },
   "file_extension": ".py",
   "mimetype": "text/x-python",
   "name": "python",
   "nbconvert_exporter": "python",
   "pygments_lexer": "ipython3",
   "version": "3.10.10"
  }
 },
 "nbformat": 4,
 "nbformat_minor": 5
}
