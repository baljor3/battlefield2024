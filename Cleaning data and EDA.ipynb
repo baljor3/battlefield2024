{
 "cells": [
  {
   "cell_type": "code",
   "execution_count": 1,
   "id": "2719bde9",
   "metadata": {},
   "outputs": [],
   "source": [
    "import pandas as pd\n",
    "import numpy as np\n",
    "import re"
   ]
  },
  {
   "cell_type": "code",
   "execution_count": 39,
   "id": "7a253e0e",
   "metadata": {},
   "outputs": [],
   "source": [
    "BF=pd.read_csv(\"Battlefieldreviews.csv\")"
   ]
  },
  {
   "cell_type": "code",
   "execution_count": 51,
   "id": "50320fc8",
   "metadata": {},
   "outputs": [
    {
     "data": {
      "text/html": [
       "<div>\n",
       "<style scoped>\n",
       "    .dataframe tbody tr th:only-of-type {\n",
       "        vertical-align: middle;\n",
       "    }\n",
       "\n",
       "    .dataframe tbody tr th {\n",
       "        vertical-align: top;\n",
       "    }\n",
       "\n",
       "    .dataframe thead th {\n",
       "        text-align: right;\n",
       "    }\n",
       "</style>\n",
       "<table border=\"1\" class=\"dataframe\">\n",
       "  <thead>\n",
       "    <tr style=\"text-align: right;\">\n",
       "      <th></th>\n",
       "      <th>Unnamed: 0</th>\n",
       "      <th>helpful</th>\n",
       "      <th>recommendations</th>\n",
       "      <th>hours</th>\n",
       "      <th>review</th>\n",
       "      <th>date</th>\n",
       "      <th>Help</th>\n",
       "      <th>funny</th>\n",
       "    </tr>\n",
       "  </thead>\n",
       "  <tbody>\n",
       "    <tr>\n",
       "      <th>0</th>\n",
       "      <td>0</td>\n",
       "      <td>No one has rated this review as helpful yet0</td>\n",
       "      <td>Recommended</td>\n",
       "      <td>95.9</td>\n",
       "      <td>Pretty good now, shame it took this long to ge...</td>\n",
       "      <td>Posted: 27 January</td>\n",
       "      <td></td>\n",
       "      <td>0</td>\n",
       "    </tr>\n",
       "    <tr>\n",
       "      <th>1</th>\n",
       "      <td>1</td>\n",
       "      <td>No one has rated this review as helpful yet0</td>\n",
       "      <td>Recommended</td>\n",
       "      <td>1.0</td>\n",
       "      <td>surprisingly good! Shields are OP :) one hit k...</td>\n",
       "      <td>Posted: 27 January</td>\n",
       "      <td></td>\n",
       "      <td>0</td>\n",
       "    </tr>\n",
       "    <tr>\n",
       "      <th>2</th>\n",
       "      <td>2</td>\n",
       "      <td>No one has rated this review as helpful yet0</td>\n",
       "      <td>Recommended</td>\n",
       "      <td>5.5</td>\n",
       "      <td>i got this game today, and played 5.5 hours st...</td>\n",
       "      <td>Posted: 27 January</td>\n",
       "      <td></td>\n",
       "      <td>0</td>\n",
       "    </tr>\n",
       "    <tr>\n",
       "      <th>3</th>\n",
       "      <td>3</td>\n",
       "      <td>1 person found this review helpful0</td>\n",
       "      <td>Recommended</td>\n",
       "      <td>54.8</td>\n",
       "      <td>started out rough but the game has really turn...</td>\n",
       "      <td>Posted: 27 January</td>\n",
       "      <td>1</td>\n",
       "      <td>0</td>\n",
       "    </tr>\n",
       "    <tr>\n",
       "      <th>4</th>\n",
       "      <td>4</td>\n",
       "      <td>1 person found this review helpful0</td>\n",
       "      <td>Recommended</td>\n",
       "      <td>35.6</td>\n",
       "      <td>Fun game</td>\n",
       "      <td>Posted: 27 January</td>\n",
       "      <td>1</td>\n",
       "      <td>0</td>\n",
       "    </tr>\n",
       "  </tbody>\n",
       "</table>\n",
       "</div>"
      ],
      "text/plain": [
       "   Unnamed: 0                                       helpful recommendations  \\\n",
       "0           0  No one has rated this review as helpful yet0     Recommended   \n",
       "1           1  No one has rated this review as helpful yet0     Recommended   \n",
       "2           2  No one has rated this review as helpful yet0     Recommended   \n",
       "3           3           1 person found this review helpful0     Recommended   \n",
       "4           4           1 person found this review helpful0     Recommended   \n",
       "\n",
       "     hours                                             review  \\\n",
       "0  95.9     Pretty good now, shame it took this long to ge...   \n",
       "1   1.0     surprisingly good! Shields are OP :) one hit k...   \n",
       "2   5.5     i got this game today, and played 5.5 hours st...   \n",
       "3  54.8     started out rough but the game has really turn...   \n",
       "4  35.6                                              Fun game   \n",
       "\n",
       "                 date Help     funny  \n",
       "0  Posted: 27 January              0  \n",
       "1  Posted: 27 January              0  \n",
       "2  Posted: 27 January              0  \n",
       "3  Posted: 27 January    1         0  \n",
       "4  Posted: 27 January    1         0  "
      ]
     },
     "execution_count": 51,
     "metadata": {},
     "output_type": "execute_result"
    }
   ],
   "source": [
    "BF.head(5)"
   ]
  },
  {
   "cell_type": "code",
   "execution_count": 41,
   "id": "37d5b4d3",
   "metadata": {},
   "outputs": [],
   "source": [
    "BF['review']=BF.apply(lambda row: re.sub(\"\\t\",\"\",str(row['review'])),axis =1)"
   ]
  },
  {
   "cell_type": "code",
   "execution_count": 42,
   "id": "9508b0bf",
   "metadata": {},
   "outputs": [],
   "source": [
    "BF[[\"Help\",\"funny\"]]=BF[\"helpful\"].str.split(n=1,expand= True)"
   ]
  },
  {
   "cell_type": "code",
   "execution_count": 46,
   "id": "4878dbda",
   "metadata": {},
   "outputs": [],
   "source": [
    "BF['Help']=BF.apply(lambda row: re.sub(\"[A-z]\",\"\",str(row['Help'])),axis =1)"
   ]
  },
  {
   "cell_type": "code",
   "execution_count": 48,
   "id": "efaeb9c6",
   "metadata": {},
   "outputs": [],
   "source": [
    "BF['funny']=BF.apply(lambda row: re.sub(\"[A-z]\",\"\",str(row['funny'])),axis =1)"
   ]
  },
  {
   "cell_type": "code",
   "execution_count": 50,
   "id": "af27aa2a",
   "metadata": {},
   "outputs": [],
   "source": [
    "BF['hours']=BF.apply(lambda row: re.sub(\"[A-z]\",\"\",str(row['hours'])),axis =1)"
   ]
  },
  {
   "cell_type": "code",
   "execution_count": null,
   "id": "11c70857",
   "metadata": {},
   "outputs": [],
   "source": [
    "    "
   ]
  }
 ],
 "metadata": {
  "kernelspec": {
   "display_name": "Python 3 (ipykernel)",
   "language": "python",
   "name": "python3"
  },
  "language_info": {
   "codemirror_mode": {
    "name": "ipython",
    "version": 3
   },
   "file_extension": ".py",
   "mimetype": "text/x-python",
   "name": "python",
   "nbconvert_exporter": "python",
   "pygments_lexer": "ipython3",
   "version": "3.10.10"
  }
 },
 "nbformat": 4,
 "nbformat_minor": 5
}
