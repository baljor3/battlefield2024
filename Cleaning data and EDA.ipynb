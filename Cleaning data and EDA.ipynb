{
 "cells": [
  {
   "cell_type": "code",
   "execution_count": 1,
   "id": "2719bde9",
   "metadata": {},
   "outputs": [],
   "source": [
    "import pandas as pd\n",
    "import numpy as np\n",
    "import re\n",
    "import datetime"
   ]
  },
  {
   "cell_type": "code",
   "execution_count": 97,
   "id": "7a253e0e",
   "metadata": {},
   "outputs": [],
   "source": [
    "#read csv\n",
    "BF=pd.read_csv(\"Battlefieldreviews.csv\")"
   ]
  },
  {
   "cell_type": "code",
   "execution_count": 108,
   "id": "50320fc8",
   "metadata": {},
   "outputs": [
    {
     "data": {
      "text/html": [
       "<div>\n",
       "<style scoped>\n",
       "    .dataframe tbody tr th:only-of-type {\n",
       "        vertical-align: middle;\n",
       "    }\n",
       "\n",
       "    .dataframe tbody tr th {\n",
       "        vertical-align: top;\n",
       "    }\n",
       "\n",
       "    .dataframe thead th {\n",
       "        text-align: right;\n",
       "    }\n",
       "</style>\n",
       "<table border=\"1\" class=\"dataframe\">\n",
       "  <thead>\n",
       "    <tr style=\"text-align: right;\">\n",
       "      <th></th>\n",
       "      <th>Unnamed: 0</th>\n",
       "      <th>helpful</th>\n",
       "      <th>recommendations</th>\n",
       "      <th>hours</th>\n",
       "      <th>review</th>\n",
       "      <th>date</th>\n",
       "      <th>Help</th>\n",
       "      <th>funny</th>\n",
       "    </tr>\n",
       "  </thead>\n",
       "  <tbody>\n",
       "    <tr>\n",
       "      <th>0</th>\n",
       "      <td>0</td>\n",
       "      <td>No one has rated this review as helpful yet0</td>\n",
       "      <td>Recommended</td>\n",
       "      <td>95.9 hrs on record</td>\n",
       "      <td>\\t\\t\\t\\t\\t\\t\\t\\t\\t\\t\\t\\t\\t\\t\\t\\tPretty good no...</td>\n",
       "      <td>Posted: 27 January</td>\n",
       "      <td></td>\n",
       "      <td>0</td>\n",
       "    </tr>\n",
       "    <tr>\n",
       "      <th>1</th>\n",
       "      <td>1</td>\n",
       "      <td>No one has rated this review as helpful yet0</td>\n",
       "      <td>Recommended</td>\n",
       "      <td>1.0 hrs on record</td>\n",
       "      <td>\\t\\t\\t\\t\\t\\t\\t\\t\\t\\t\\t\\t\\t\\t\\t\\tsurprisingly g...</td>\n",
       "      <td>Posted: 27 January</td>\n",
       "      <td></td>\n",
       "      <td>0</td>\n",
       "    </tr>\n",
       "    <tr>\n",
       "      <th>2</th>\n",
       "      <td>2</td>\n",
       "      <td>No one has rated this review as helpful yet0</td>\n",
       "      <td>Recommended</td>\n",
       "      <td>5.5 hrs on record</td>\n",
       "      <td>\\t\\t\\t\\t\\t\\t\\t\\t\\t\\t\\t\\t\\t\\t\\t\\ti got this gam...</td>\n",
       "      <td>Posted: 27 January</td>\n",
       "      <td></td>\n",
       "      <td>0</td>\n",
       "    </tr>\n",
       "    <tr>\n",
       "      <th>3</th>\n",
       "      <td>3</td>\n",
       "      <td>1 person found this review helpful0</td>\n",
       "      <td>Recommended</td>\n",
       "      <td>54.8 hrs on record</td>\n",
       "      <td>\\t\\t\\t\\t\\t\\t\\t\\t\\t\\t\\t\\t\\t\\t\\t\\tstarted out ro...</td>\n",
       "      <td>Posted: 27 January</td>\n",
       "      <td>1</td>\n",
       "      <td>0</td>\n",
       "    </tr>\n",
       "    <tr>\n",
       "      <th>4</th>\n",
       "      <td>4</td>\n",
       "      <td>1 person found this review helpful0</td>\n",
       "      <td>Recommended</td>\n",
       "      <td>35.6 hrs on record</td>\n",
       "      <td>\\t\\t\\t\\t\\t\\t\\t\\t\\t\\t\\t\\t\\t\\t\\t\\tFun game\\t\\t\\t</td>\n",
       "      <td>Posted: 27 January</td>\n",
       "      <td>1</td>\n",
       "      <td>0</td>\n",
       "    </tr>\n",
       "    <tr>\n",
       "      <th>...</th>\n",
       "      <td>...</td>\n",
       "      <td>...</td>\n",
       "      <td>...</td>\n",
       "      <td>...</td>\n",
       "      <td>...</td>\n",
       "      <td>...</td>\n",
       "      <td>...</td>\n",
       "      <td>...</td>\n",
       "    </tr>\n",
       "    <tr>\n",
       "      <th>53542</th>\n",
       "      <td>53542</td>\n",
       "      <td>2 people found this review helpful0</td>\n",
       "      <td>Not Recommended</td>\n",
       "      <td>1.1 hrs on record</td>\n",
       "      <td>\\t\\t\\t\\t\\t\\t\\t\\t\\t\\t\\t\\t\\t\\t\\t\\t👎\\t\\t\\t</td>\n",
       "      <td>Posted: December 18, 2021</td>\n",
       "      <td>2</td>\n",
       "      <td>0</td>\n",
       "    </tr>\n",
       "    <tr>\n",
       "      <th>53543</th>\n",
       "      <td>53543</td>\n",
       "      <td>No one has rated this review as helpful yet0</td>\n",
       "      <td>Not Recommended</td>\n",
       "      <td>0.2 hrs on record</td>\n",
       "      <td>\\t\\t\\t\\t\\t\\t\\t\\t\\t\\t\\t\\t\\t\\t\\t\\tmid\\t\\t\\t</td>\n",
       "      <td>Posted: December 18, 2021</td>\n",
       "      <td></td>\n",
       "      <td>0</td>\n",
       "    </tr>\n",
       "    <tr>\n",
       "      <th>53544</th>\n",
       "      <td>53544</td>\n",
       "      <td>1 person found this review helpful0</td>\n",
       "      <td>Not Recommended</td>\n",
       "      <td>1.1 hrs on record</td>\n",
       "      <td>\\t\\t\\t\\t\\t\\t\\t\\t\\t\\t\\t\\t\\t\\t\\t\\ttrash...i woul...</td>\n",
       "      <td>Posted: December 18, 2021</td>\n",
       "      <td>1</td>\n",
       "      <td>0</td>\n",
       "    </tr>\n",
       "    <tr>\n",
       "      <th>53545</th>\n",
       "      <td>53545</td>\n",
       "      <td>No one has rated this review as helpful yet0</td>\n",
       "      <td>Not Recommended</td>\n",
       "      <td>1.1 hrs on record</td>\n",
       "      <td>\\t\\t\\t\\t\\t\\t\\t\\t\\t\\t\\t\\t\\t\\t\\t\\tlol no\\t\\t\\t</td>\n",
       "      <td>Posted: December 18, 2021</td>\n",
       "      <td></td>\n",
       "      <td>0</td>\n",
       "    </tr>\n",
       "    <tr>\n",
       "      <th>53546</th>\n",
       "      <td>53546</td>\n",
       "      <td>No one has rated this review as helpful yet0</td>\n",
       "      <td>Not Recommended</td>\n",
       "      <td>14.1 hrs on record</td>\n",
       "      <td>\\t\\t\\t\\t\\t\\t\\t\\t\\t\\t\\t\\t\\t\\t\\t\\tThe game is ho...</td>\n",
       "      <td>Posted: December 18, 2021</td>\n",
       "      <td></td>\n",
       "      <td>0</td>\n",
       "    </tr>\n",
       "  </tbody>\n",
       "</table>\n",
       "<p>53547 rows × 8 columns</p>\n",
       "</div>"
      ],
      "text/plain": [
       "       Unnamed: 0                                       helpful  \\\n",
       "0               0  No one has rated this review as helpful yet0   \n",
       "1               1  No one has rated this review as helpful yet0   \n",
       "2               2  No one has rated this review as helpful yet0   \n",
       "3               3           1 person found this review helpful0   \n",
       "4               4           1 person found this review helpful0   \n",
       "...           ...                                           ...   \n",
       "53542       53542           2 people found this review helpful0   \n",
       "53543       53543  No one has rated this review as helpful yet0   \n",
       "53544       53544           1 person found this review helpful0   \n",
       "53545       53545  No one has rated this review as helpful yet0   \n",
       "53546       53546  No one has rated this review as helpful yet0   \n",
       "\n",
       "       recommendations               hours  \\\n",
       "0          Recommended  95.9 hrs on record   \n",
       "1          Recommended   1.0 hrs on record   \n",
       "2          Recommended   5.5 hrs on record   \n",
       "3          Recommended  54.8 hrs on record   \n",
       "4          Recommended  35.6 hrs on record   \n",
       "...                ...                 ...   \n",
       "53542  Not Recommended   1.1 hrs on record   \n",
       "53543  Not Recommended   0.2 hrs on record   \n",
       "53544  Not Recommended   1.1 hrs on record   \n",
       "53545  Not Recommended   1.1 hrs on record   \n",
       "53546  Not Recommended  14.1 hrs on record   \n",
       "\n",
       "                                                  review  \\\n",
       "0      \\t\\t\\t\\t\\t\\t\\t\\t\\t\\t\\t\\t\\t\\t\\t\\tPretty good no...   \n",
       "1      \\t\\t\\t\\t\\t\\t\\t\\t\\t\\t\\t\\t\\t\\t\\t\\tsurprisingly g...   \n",
       "2      \\t\\t\\t\\t\\t\\t\\t\\t\\t\\t\\t\\t\\t\\t\\t\\ti got this gam...   \n",
       "3      \\t\\t\\t\\t\\t\\t\\t\\t\\t\\t\\t\\t\\t\\t\\t\\tstarted out ro...   \n",
       "4         \\t\\t\\t\\t\\t\\t\\t\\t\\t\\t\\t\\t\\t\\t\\t\\tFun game\\t\\t\\t   \n",
       "...                                                  ...   \n",
       "53542            \\t\\t\\t\\t\\t\\t\\t\\t\\t\\t\\t\\t\\t\\t\\t\\t👎\\t\\t\\t   \n",
       "53543          \\t\\t\\t\\t\\t\\t\\t\\t\\t\\t\\t\\t\\t\\t\\t\\tmid\\t\\t\\t   \n",
       "53544  \\t\\t\\t\\t\\t\\t\\t\\t\\t\\t\\t\\t\\t\\t\\t\\ttrash...i woul...   \n",
       "53545       \\t\\t\\t\\t\\t\\t\\t\\t\\t\\t\\t\\t\\t\\t\\t\\tlol no\\t\\t\\t   \n",
       "53546  \\t\\t\\t\\t\\t\\t\\t\\t\\t\\t\\t\\t\\t\\t\\t\\tThe game is ho...   \n",
       "\n",
       "                            date Help     funny  \n",
       "0             Posted: 27 January              0  \n",
       "1             Posted: 27 January              0  \n",
       "2             Posted: 27 January              0  \n",
       "3             Posted: 27 January    1         0  \n",
       "4             Posted: 27 January    1         0  \n",
       "...                          ...  ...       ...  \n",
       "53542  Posted: December 18, 2021    2         0  \n",
       "53543  Posted: December 18, 2021              0  \n",
       "53544  Posted: December 18, 2021    1         0  \n",
       "53545  Posted: December 18, 2021              0  \n",
       "53546  Posted: December 18, 2021              0  \n",
       "\n",
       "[53547 rows x 8 columns]"
      ]
     },
     "execution_count": 108,
     "metadata": {},
     "output_type": "execute_result"
    }
   ],
   "source": [
    "#look at data\n",
    "BF.head(5)"
   ]
  },
  {
   "cell_type": "code",
   "execution_count": 4,
   "id": "37d5b4d3",
   "metadata": {},
   "outputs": [],
   "source": [
    "#remove \\t from review column\n",
    "BF['review']=BF.apply(lambda row: re.sub(\"\\t\",\"\",str(row['review'])),axis =1)"
   ]
  },
  {
   "cell_type": "code",
   "execution_count": 111,
   "id": "9508b0bf",
   "metadata": {},
   "outputs": [],
   "source": [
    "#split X amount of people found this helpful and Y amount of people found this funny \n",
    "BF[[\"Help\",\"funny\"]]=BF[\"helpful\"].str.split(n=1,expand= True)"
   ]
  },
  {
   "cell_type": "code",
   "execution_count": 112,
   "id": "4878dbda",
   "metadata": {},
   "outputs": [],
   "source": [
    "#Remove all letters from Help\n",
    "BF['Help']=BF.apply(lambda row: re.sub(\"[A-z]\",\"\",str(row['Help'])),axis =1)"
   ]
  },
  {
   "cell_type": "code",
   "execution_count": 113,
   "id": "efaeb9c6",
   "metadata": {},
   "outputs": [
    {
     "name": "stderr",
     "output_type": "stream",
     "text": [
      "C:\\Users\\bobby\\AppData\\Local\\Temp\\ipykernel_16864\\2379588779.py:1: FutureWarning: The default value of regex will change from True to False in a future version.\n",
      "  BF[\"funny\"].str.replace(\"[A-z][0-9]\",\"\")\n"
     ]
    }
   ],
   "source": [
    "#remove all letters from funny\n",
    "BF['funny']=BF.apply(lambda row: re.sub(\"[A-z]\",\"\",str(row['funny'])),axis =1)"
   ]
  },
  {
   "cell_type": "code",
   "execution_count": 8,
   "id": "af27aa2a",
   "metadata": {},
   "outputs": [],
   "source": [
    "#remove all letters froms hours\n",
    "BF['hours']=BF.apply(lambda row: re.sub(\"[A-z]\",\"\",str(row['hours'])),axis =1)"
   ]
  },
  {
   "cell_type": "code",
   "execution_count": 9,
   "id": "85716393",
   "metadata": {},
   "outputs": [],
   "source": [
    "# remove spaces in hours\n",
    "BF['hours']=BF.apply(lambda row: re.sub(\" \",\"\",str(row['hours'])),axis =1)"
   ]
  },
  {
   "cell_type": "code",
   "execution_count": 10,
   "id": "11c70857",
   "metadata": {},
   "outputs": [],
   "source": [
    "#remove ',' from hours\n",
    "BF['hours']=BF.apply(lambda row: re.sub(\",\",\"\",str(row['hours'])),axis =1)"
   ]
  },
  {
   "cell_type": "code",
   "execution_count": 11,
   "id": "0ccdff8f",
   "metadata": {},
   "outputs": [],
   "source": [
    "#covert string to float\n",
    "BF[\"hours\"]=BF[\"hours\"].astype(\"float\")"
   ]
  },
  {
   "cell_type": "code",
   "execution_count": 13,
   "id": "c39a99db",
   "metadata": {},
   "outputs": [],
   "source": [
    "#remove posted from date\n",
    "BF[\"date\"] = BF.apply(lambda row: re.sub(\"Posted: \",\"\",str(row[\"date\"])),axis =1)"
   ]
  },
  {
   "cell_type": "code",
   "execution_count": 14,
   "id": "c4e15e79",
   "metadata": {},
   "outputs": [
    {
     "data": {
      "text/plain": [
       "array(['January', 'December', 'November', 'October', 'September',\n",
       "       'August', 'July', 'June', 'May', 'April', 'March', 'February'],\n",
       "      dtype=object)"
      ]
     },
     "execution_count": 14,
     "metadata": {},
     "output_type": "execute_result"
    }
   ],
   "source": [
    "#extract month from date and put it in its column\n",
    "BF[\"Month\"]=BF.apply(lambda row : re.search(\"[A-z]+\", str(row[\"date\"])).group(),axis =1)\n",
    "BF[\"Month\"].unique()"
   ]
  },
  {
   "cell_type": "code",
   "execution_count": 15,
   "id": "b0cae4e1",
   "metadata": {},
   "outputs": [
    {
     "data": {
      "text/plain": [
       "array(['27', '26', '25', '24', '23', '22', '21', '20', '19', '18', '17',\n",
       "       '16', '15', '14', '13', '12', '11', '10', '9', '8', '7', '6', '5',\n",
       "       '4', '3', '2', '1', '31', '30', '29', '28'], dtype=object)"
      ]
     },
     "execution_count": 15,
     "metadata": {},
     "output_type": "execute_result"
    }
   ],
   "source": [
    "#extract day from date\n",
    "BF[\"Day\"]=BF.apply(lambda row : re.search(\"[0-9]+\", str(row[\"date\"])).group(),axis =1)\n",
    "BF[\"Day\"].unique()"
   ]
  },
  {
   "cell_type": "code",
   "execution_count": 18,
   "id": "6a45e160",
   "metadata": {},
   "outputs": [],
   "source": [
    "#extract year from date\n",
    "BF[\"Year\"]=BF.apply(lambda row : re.search(\"[0-9]*$\", str(row[\"date\"])).group(),axis =1)"
   ]
  },
  {
   "cell_type": "code",
   "execution_count": 24,
   "id": "889a7faa",
   "metadata": {},
   "outputs": [
    {
     "name": "stderr",
     "output_type": "stream",
     "text": [
      "C:\\Users\\bobby\\AppData\\Local\\Temp\\ipykernel_16864\\2991956176.py:1: FutureWarning: The default value of regex will change from True to False in a future version.\n",
      "  BF[\"Year\"]=BF[\"Year\"].str.replace(\"^..$|^.$\",\"\")\n"
     ]
    }
   ],
   "source": [
    "#remove days from the years column\n",
    "BF[\"Year\"]=BF[\"Year\"].str.replace(\"^..$|^.$\",\"\")"
   ]
  },
  {
   "cell_type": "code",
   "execution_count": 33,
   "id": "0628de2a",
   "metadata": {},
   "outputs": [],
   "source": [
    "#convert year to numeric and fill the nas with 2023 year\n",
    "BF[\"Year\"]=pd.to_numeric(BF[\"Year\"]).fillna(2023)"
   ]
  },
  {
   "cell_type": "code",
   "execution_count": 39,
   "id": "f7665f08",
   "metadata": {},
   "outputs": [],
   "source": [
    "#change help from string to float\n",
    "BF[\"Help\"]=pd.to_numeric(BF[\"Help\"].str.replace(\",\",\"\")).fillna(0)"
   ]
  },
  {
   "cell_type": "code",
   "execution_count": 121,
   "id": "f7d903ff",
   "metadata": {},
   "outputs": [
    {
     "name": "stderr",
     "output_type": "stream",
     "text": [
      "C:\\Users\\bobby\\AppData\\Local\\Temp\\ipykernel_16864\\4140034988.py:1: FutureWarning: The default value of regex will change from True to False in a future version.\n",
      "  BF[\"funny\"]=BF[\"funny\"].str.replace(\"<.*\",\"\")\n",
      "C:\\Users\\bobby\\AppData\\Local\\Temp\\ipykernel_16864\\4140034988.py:3: FutureWarning: The default value of regex will change from True to False in a future version.\n",
      "  BF[\"funny\"]=BF[\"funny\"].str.replace(\"[A-z][0-9]\",\"\")\n",
      "C:\\Users\\bobby\\AppData\\Local\\Temp\\ipykernel_16864\\4140034988.py:4: FutureWarning: The default value of regex will change from True to False in a future version.\n",
      "  BF[\"funny\"]=BF[\"funny\"].str.replace(\" [0-9]$\",\"\")\n"
     ]
    }
   ],
   "source": [
    "# remove all letters and special charactors and convert string into numeric\n",
    "BF[\"funny\"]=BF[\"funny\"].str.replace(\"<.*\",\"\")\n",
    "BF[\"funny\"]=BF[\"funny\"].str.strip()\n",
    "BF[\"funny\"]=BF[\"funny\"].str.replace(\"[A-z][0-9]\",\"\")\n",
    "BF[\"funny\"]=BF[\"funny\"].str.replace(\" [0-9]$\",\"\")\n",
    "BF[\"funny\"]=BF[\"funny\"].str.replace(\",\",\"\")\n",
    "BF[\"funny\"]=pd.to_numeric(BF[\"funny\"])\n"
   ]
  },
  {
   "cell_type": "code",
   "execution_count": 12,
   "id": "de9a4b39",
   "metadata": {},
   "outputs": [
    {
     "data": {
      "text/plain": [
       "count    53547.000000\n",
       "mean        79.308611\n",
       "std        136.645217\n",
       "min          0.100000\n",
       "25%         12.400000\n",
       "50%         40.200000\n",
       "75%         93.950000\n",
       "max       7570.100000\n",
       "Name: hours, dtype: float64"
      ]
     },
     "execution_count": 12,
     "metadata": {},
     "output_type": "execute_result"
    }
   ],
   "source": [
    "#looking at data\n",
    "BF[\"hours\"].describe()"
   ]
  },
  {
   "cell_type": "code",
   "execution_count": 123,
   "id": "10009c78",
   "metadata": {},
   "outputs": [
    {
     "data": {
      "text/html": [
       "<div>\n",
       "<style scoped>\n",
       "    .dataframe tbody tr th:only-of-type {\n",
       "        vertical-align: middle;\n",
       "    }\n",
       "\n",
       "    .dataframe tbody tr th {\n",
       "        vertical-align: top;\n",
       "    }\n",
       "\n",
       "    .dataframe thead th {\n",
       "        text-align: right;\n",
       "    }\n",
       "</style>\n",
       "<table border=\"1\" class=\"dataframe\">\n",
       "  <thead>\n",
       "    <tr style=\"text-align: right;\">\n",
       "      <th></th>\n",
       "      <th>Unnamed: 0</th>\n",
       "      <th>helpful</th>\n",
       "      <th>recommendations</th>\n",
       "      <th>hours</th>\n",
       "      <th>review</th>\n",
       "      <th>date</th>\n",
       "      <th>Help</th>\n",
       "      <th>funny</th>\n",
       "    </tr>\n",
       "  </thead>\n",
       "  <tbody>\n",
       "    <tr>\n",
       "      <th>72</th>\n",
       "      <td>72</td>\n",
       "      <td>No one has rated this review as helpful yet2 p...</td>\n",
       "      <td>Recommended</td>\n",
       "      <td>45.2 hrs on record</td>\n",
       "      <td>\\t\\t\\t\\t\\t\\t\\t\\t\\t\\t\\t\\t\\t\\t\\t\\tAlot better th...</td>\n",
       "      <td>Posted: January 25</td>\n",
       "      <td></td>\n",
       "      <td>2.0</td>\n",
       "    </tr>\n",
       "    <tr>\n",
       "      <th>97</th>\n",
       "      <td>97</td>\n",
       "      <td>1 person found this review helpful2 people fou...</td>\n",
       "      <td>Recommended</td>\n",
       "      <td>17.4 hrs on record</td>\n",
       "      <td>\\t\\t\\t\\t\\t\\t\\t\\t\\t\\t\\t\\t\\t\\t\\t\\tI personally r...</td>\n",
       "      <td>Posted: January 24</td>\n",
       "      <td>1</td>\n",
       "      <td>2.0</td>\n",
       "    </tr>\n",
       "    <tr>\n",
       "      <th>131</th>\n",
       "      <td>131</td>\n",
       "      <td>1 person found this review helpful2 people fou...</td>\n",
       "      <td>Recommended</td>\n",
       "      <td>43.4 hrs on record</td>\n",
       "      <td>\\t\\t\\t\\t\\t\\t\\t\\t\\t\\t\\t\\t\\t\\t\\t\\ti dont die qui...</td>\n",
       "      <td>Posted: January 23</td>\n",
       "      <td>1</td>\n",
       "      <td>2.0</td>\n",
       "    </tr>\n",
       "    <tr>\n",
       "      <th>143</th>\n",
       "      <td>143</td>\n",
       "      <td>1 person found this review helpful2 people fou...</td>\n",
       "      <td>Recommended</td>\n",
       "      <td>15.5 hrs on record</td>\n",
       "      <td>\\t\\t\\t\\t\\t\\t\\t\\t\\t\\t\\t\\t\\t\\t\\t\\tHonestly a gre...</td>\n",
       "      <td>Posted: January 22</td>\n",
       "      <td>1</td>\n",
       "      <td>2.0</td>\n",
       "    </tr>\n",
       "    <tr>\n",
       "      <th>152</th>\n",
       "      <td>152</td>\n",
       "      <td>12 people found this review helpful3 people fo...</td>\n",
       "      <td>Recommended</td>\n",
       "      <td>158.5 hrs on record</td>\n",
       "      <td>\\t\\t\\t\\t\\t\\t\\t\\t\\t\\t\\t\\t\\t\\t\\t\\tTurned around ...</td>\n",
       "      <td>Posted: January 22</td>\n",
       "      <td>12</td>\n",
       "      <td>3.0</td>\n",
       "    </tr>\n",
       "    <tr>\n",
       "      <th>...</th>\n",
       "      <td>...</td>\n",
       "      <td>...</td>\n",
       "      <td>...</td>\n",
       "      <td>...</td>\n",
       "      <td>...</td>\n",
       "      <td>...</td>\n",
       "      <td>...</td>\n",
       "      <td>...</td>\n",
       "    </tr>\n",
       "    <tr>\n",
       "      <th>53413</th>\n",
       "      <td>53413</td>\n",
       "      <td>4 people found this review helpful5 people fou...</td>\n",
       "      <td>Not Recommended</td>\n",
       "      <td>0.4 hrs on record</td>\n",
       "      <td>\\t\\t\\t\\t\\t\\t\\t\\t\\t\\t\\t\\t\\t\\t\\t\\tI downloaded t...</td>\n",
       "      <td>Posted: December 18, 2021</td>\n",
       "      <td>4</td>\n",
       "      <td>5.0</td>\n",
       "    </tr>\n",
       "    <tr>\n",
       "      <th>53428</th>\n",
       "      <td>53428</td>\n",
       "      <td>3 people found this review helpful2 people fou...</td>\n",
       "      <td>Not Recommended</td>\n",
       "      <td>4.0 hrs on record</td>\n",
       "      <td>\\t\\t\\t\\t\\t\\t\\t\\t\\t\\t\\t\\t\\t\\t\\t\\tPIOR BATTLEFIE...</td>\n",
       "      <td>Posted: December 18, 2021</td>\n",
       "      <td>3</td>\n",
       "      <td>2.0</td>\n",
       "    </tr>\n",
       "    <tr>\n",
       "      <th>53513</th>\n",
       "      <td>53513</td>\n",
       "      <td>3 people found this review helpful2 people fou...</td>\n",
       "      <td>Not Recommended</td>\n",
       "      <td>1.2 hrs on record</td>\n",
       "      <td>\\t\\t\\t\\t\\t\\t\\t\\t\\t\\t\\t\\t\\t\\t\\t\\tGlad to see th...</td>\n",
       "      <td>Posted: December 18, 2021</td>\n",
       "      <td>3</td>\n",
       "      <td>2.0</td>\n",
       "    </tr>\n",
       "    <tr>\n",
       "      <th>53519</th>\n",
       "      <td>53519</td>\n",
       "      <td>5 people found this review helpful7 people fou...</td>\n",
       "      <td>Not Recommended</td>\n",
       "      <td>8.2 hrs on record</td>\n",
       "      <td>\\t\\t\\t\\t\\t\\t\\t\\t\\t\\t\\t\\t\\t\\t\\t\\tworst 30 minut...</td>\n",
       "      <td>Posted: December 18, 2021</td>\n",
       "      <td>5</td>\n",
       "      <td>7.0</td>\n",
       "    </tr>\n",
       "    <tr>\n",
       "      <th>53525</th>\n",
       "      <td>53525</td>\n",
       "      <td>3 people found this review helpful2 people fou...</td>\n",
       "      <td>Not Recommended</td>\n",
       "      <td>2.3 hrs on record</td>\n",
       "      <td>\\t\\t\\t\\t\\t\\t\\t\\t\\t\\t\\t\\t\\t\\t\\t\\t-REP  R.I.P GAME</td>\n",
       "      <td>Posted: December 18, 2021</td>\n",
       "      <td>3</td>\n",
       "      <td>2.0</td>\n",
       "    </tr>\n",
       "  </tbody>\n",
       "</table>\n",
       "<p>4084 rows × 8 columns</p>\n",
       "</div>"
      ],
      "text/plain": [
       "       Unnamed: 0                                            helpful  \\\n",
       "72             72  No one has rated this review as helpful yet2 p...   \n",
       "97             97  1 person found this review helpful2 people fou...   \n",
       "131           131  1 person found this review helpful2 people fou...   \n",
       "143           143  1 person found this review helpful2 people fou...   \n",
       "152           152  12 people found this review helpful3 people fo...   \n",
       "...           ...                                                ...   \n",
       "53413       53413  4 people found this review helpful5 people fou...   \n",
       "53428       53428  3 people found this review helpful2 people fou...   \n",
       "53513       53513  3 people found this review helpful2 people fou...   \n",
       "53519       53519  5 people found this review helpful7 people fou...   \n",
       "53525       53525  3 people found this review helpful2 people fou...   \n",
       "\n",
       "       recommendations                hours  \\\n",
       "72         Recommended   45.2 hrs on record   \n",
       "97         Recommended   17.4 hrs on record   \n",
       "131        Recommended   43.4 hrs on record   \n",
       "143        Recommended   15.5 hrs on record   \n",
       "152        Recommended  158.5 hrs on record   \n",
       "...                ...                  ...   \n",
       "53413  Not Recommended    0.4 hrs on record   \n",
       "53428  Not Recommended    4.0 hrs on record   \n",
       "53513  Not Recommended    1.2 hrs on record   \n",
       "53519  Not Recommended    8.2 hrs on record   \n",
       "53525  Not Recommended    2.3 hrs on record   \n",
       "\n",
       "                                                  review  \\\n",
       "72     \\t\\t\\t\\t\\t\\t\\t\\t\\t\\t\\t\\t\\t\\t\\t\\tAlot better th...   \n",
       "97     \\t\\t\\t\\t\\t\\t\\t\\t\\t\\t\\t\\t\\t\\t\\t\\tI personally r...   \n",
       "131    \\t\\t\\t\\t\\t\\t\\t\\t\\t\\t\\t\\t\\t\\t\\t\\ti dont die qui...   \n",
       "143    \\t\\t\\t\\t\\t\\t\\t\\t\\t\\t\\t\\t\\t\\t\\t\\tHonestly a gre...   \n",
       "152    \\t\\t\\t\\t\\t\\t\\t\\t\\t\\t\\t\\t\\t\\t\\t\\tTurned around ...   \n",
       "...                                                  ...   \n",
       "53413  \\t\\t\\t\\t\\t\\t\\t\\t\\t\\t\\t\\t\\t\\t\\t\\tI downloaded t...   \n",
       "53428  \\t\\t\\t\\t\\t\\t\\t\\t\\t\\t\\t\\t\\t\\t\\t\\tPIOR BATTLEFIE...   \n",
       "53513  \\t\\t\\t\\t\\t\\t\\t\\t\\t\\t\\t\\t\\t\\t\\t\\tGlad to see th...   \n",
       "53519  \\t\\t\\t\\t\\t\\t\\t\\t\\t\\t\\t\\t\\t\\t\\t\\tworst 30 minut...   \n",
       "53525   \\t\\t\\t\\t\\t\\t\\t\\t\\t\\t\\t\\t\\t\\t\\t\\t-REP  R.I.P GAME   \n",
       "\n",
       "                            date Help  funny  \n",
       "72            Posted: January 25         2.0  \n",
       "97            Posted: January 24    1    2.0  \n",
       "131           Posted: January 23    1    2.0  \n",
       "143           Posted: January 22    1    2.0  \n",
       "152           Posted: January 22   12    3.0  \n",
       "...                          ...  ...    ...  \n",
       "53413  Posted: December 18, 2021    4    5.0  \n",
       "53428  Posted: December 18, 2021    3    2.0  \n",
       "53513  Posted: December 18, 2021    3    2.0  \n",
       "53519  Posted: December 18, 2021    5    7.0  \n",
       "53525  Posted: December 18, 2021    3    2.0  \n",
       "\n",
       "[4084 rows x 8 columns]"
      ]
     },
     "execution_count": 123,
     "metadata": {},
     "output_type": "execute_result"
    }
   ],
   "source": []
  },
  {
   "cell_type": "code",
   "execution_count": null,
   "id": "d975967c",
   "metadata": {},
   "outputs": [],
   "source": []
  }
 ],
 "metadata": {
  "kernelspec": {
   "display_name": "Python 3 (ipykernel)",
   "language": "python",
   "name": "python3"
  },
  "language_info": {
   "codemirror_mode": {
    "name": "ipython",
    "version": 3
   },
   "file_extension": ".py",
   "mimetype": "text/x-python",
   "name": "python",
   "nbconvert_exporter": "python",
   "pygments_lexer": "ipython3",
   "version": "3.10.10"
  }
 },
 "nbformat": 4,
 "nbformat_minor": 5
}
