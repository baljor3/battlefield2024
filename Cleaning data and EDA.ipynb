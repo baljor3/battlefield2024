{
 "cells": [
  {
   "cell_type": "code",
   "execution_count": 21,
   "id": "2719bde9",
   "metadata": {},
   "outputs": [],
   "source": [
    "import pandas as pd\n",
    "import numpy as np\n",
    "import re\n",
    "import datetime"
   ]
  },
  {
   "cell_type": "code",
   "execution_count": 2,
   "id": "7a253e0e",
   "metadata": {},
   "outputs": [],
   "source": [
    "BF=pd.read_csv(\"Battlefieldreviews.csv\")"
   ]
  },
  {
   "cell_type": "code",
   "execution_count": 102,
   "id": "50320fc8",
   "metadata": {},
   "outputs": [
    {
     "data": {
      "text/html": [
       "<div>\n",
       "<style scoped>\n",
       "    .dataframe tbody tr th:only-of-type {\n",
       "        vertical-align: middle;\n",
       "    }\n",
       "\n",
       "    .dataframe tbody tr th {\n",
       "        vertical-align: top;\n",
       "    }\n",
       "\n",
       "    .dataframe thead th {\n",
       "        text-align: right;\n",
       "    }\n",
       "</style>\n",
       "<table border=\"1\" class=\"dataframe\">\n",
       "  <thead>\n",
       "    <tr style=\"text-align: right;\">\n",
       "      <th></th>\n",
       "      <th>Unnamed: 0</th>\n",
       "      <th>helpful</th>\n",
       "      <th>recommendations</th>\n",
       "      <th>hours</th>\n",
       "      <th>review</th>\n",
       "      <th>date</th>\n",
       "      <th>Help</th>\n",
       "      <th>funny</th>\n",
       "      <th>test</th>\n",
       "    </tr>\n",
       "  </thead>\n",
       "  <tbody>\n",
       "    <tr>\n",
       "      <th>0</th>\n",
       "      <td>0</td>\n",
       "      <td>No one has rated this review as helpful yet0</td>\n",
       "      <td>Recommended</td>\n",
       "      <td>95.9</td>\n",
       "      <td>Pretty good now, shame it took this long to ge...</td>\n",
       "      <td>27 January</td>\n",
       "      <td></td>\n",
       "      <td>0</td>\n",
       "      <td>27</td>\n",
       "    </tr>\n",
       "    <tr>\n",
       "      <th>1</th>\n",
       "      <td>1</td>\n",
       "      <td>No one has rated this review as helpful yet0</td>\n",
       "      <td>Recommended</td>\n",
       "      <td>1.0</td>\n",
       "      <td>surprisingly good! Shields are OP :) one hit k...</td>\n",
       "      <td>27 January</td>\n",
       "      <td></td>\n",
       "      <td>0</td>\n",
       "      <td>27</td>\n",
       "    </tr>\n",
       "    <tr>\n",
       "      <th>2</th>\n",
       "      <td>2</td>\n",
       "      <td>No one has rated this review as helpful yet0</td>\n",
       "      <td>Recommended</td>\n",
       "      <td>5.5</td>\n",
       "      <td>i got this game today, and played 5.5 hours st...</td>\n",
       "      <td>27 January</td>\n",
       "      <td></td>\n",
       "      <td>0</td>\n",
       "      <td>27</td>\n",
       "    </tr>\n",
       "    <tr>\n",
       "      <th>3</th>\n",
       "      <td>3</td>\n",
       "      <td>1 person found this review helpful0</td>\n",
       "      <td>Recommended</td>\n",
       "      <td>54.8</td>\n",
       "      <td>started out rough but the game has really turn...</td>\n",
       "      <td>27 January</td>\n",
       "      <td>1</td>\n",
       "      <td>0</td>\n",
       "      <td>27</td>\n",
       "    </tr>\n",
       "    <tr>\n",
       "      <th>4</th>\n",
       "      <td>4</td>\n",
       "      <td>1 person found this review helpful0</td>\n",
       "      <td>Recommended</td>\n",
       "      <td>35.6</td>\n",
       "      <td>Fun game</td>\n",
       "      <td>27 January</td>\n",
       "      <td>1</td>\n",
       "      <td>0</td>\n",
       "      <td>27</td>\n",
       "    </tr>\n",
       "    <tr>\n",
       "      <th>...</th>\n",
       "      <td>...</td>\n",
       "      <td>...</td>\n",
       "      <td>...</td>\n",
       "      <td>...</td>\n",
       "      <td>...</td>\n",
       "      <td>...</td>\n",
       "      <td>...</td>\n",
       "      <td>...</td>\n",
       "      <td>...</td>\n",
       "    </tr>\n",
       "    <tr>\n",
       "      <th>53542</th>\n",
       "      <td>53542</td>\n",
       "      <td>2 people found this review helpful0</td>\n",
       "      <td>Not Recommended</td>\n",
       "      <td>1.1</td>\n",
       "      <td>👎</td>\n",
       "      <td>December 18, 2021</td>\n",
       "      <td>2</td>\n",
       "      <td>0</td>\n",
       "      <td>18</td>\n",
       "    </tr>\n",
       "    <tr>\n",
       "      <th>53543</th>\n",
       "      <td>53543</td>\n",
       "      <td>No one has rated this review as helpful yet0</td>\n",
       "      <td>Not Recommended</td>\n",
       "      <td>0.2</td>\n",
       "      <td>mid</td>\n",
       "      <td>December 18, 2021</td>\n",
       "      <td></td>\n",
       "      <td>0</td>\n",
       "      <td>18</td>\n",
       "    </tr>\n",
       "    <tr>\n",
       "      <th>53544</th>\n",
       "      <td>53544</td>\n",
       "      <td>1 person found this review helpful0</td>\n",
       "      <td>Not Recommended</td>\n",
       "      <td>1.1</td>\n",
       "      <td>trash...i wouldnt even pay 20 bucks for this ♥♥♥♥</td>\n",
       "      <td>December 18, 2021</td>\n",
       "      <td>1</td>\n",
       "      <td>0</td>\n",
       "      <td>18</td>\n",
       "    </tr>\n",
       "    <tr>\n",
       "      <th>53545</th>\n",
       "      <td>53545</td>\n",
       "      <td>No one has rated this review as helpful yet0</td>\n",
       "      <td>Not Recommended</td>\n",
       "      <td>1.1</td>\n",
       "      <td>lol no</td>\n",
       "      <td>December 18, 2021</td>\n",
       "      <td></td>\n",
       "      <td>0</td>\n",
       "      <td>18</td>\n",
       "    </tr>\n",
       "    <tr>\n",
       "      <th>53546</th>\n",
       "      <td>53546</td>\n",
       "      <td>No one has rated this review as helpful yet0</td>\n",
       "      <td>Not Recommended</td>\n",
       "      <td>14.1</td>\n",
       "      <td>The game is honestly really fun, the guns feel...</td>\n",
       "      <td>December 18, 2021</td>\n",
       "      <td></td>\n",
       "      <td>0</td>\n",
       "      <td>18</td>\n",
       "    </tr>\n",
       "  </tbody>\n",
       "</table>\n",
       "<p>53547 rows × 9 columns</p>\n",
       "</div>"
      ],
      "text/plain": [
       "       Unnamed: 0                                       helpful  \\\n",
       "0               0  No one has rated this review as helpful yet0   \n",
       "1               1  No one has rated this review as helpful yet0   \n",
       "2               2  No one has rated this review as helpful yet0   \n",
       "3               3           1 person found this review helpful0   \n",
       "4               4           1 person found this review helpful0   \n",
       "...           ...                                           ...   \n",
       "53542       53542           2 people found this review helpful0   \n",
       "53543       53543  No one has rated this review as helpful yet0   \n",
       "53544       53544           1 person found this review helpful0   \n",
       "53545       53545  No one has rated this review as helpful yet0   \n",
       "53546       53546  No one has rated this review as helpful yet0   \n",
       "\n",
       "       recommendations  hours  \\\n",
       "0          Recommended   95.9   \n",
       "1          Recommended    1.0   \n",
       "2          Recommended    5.5   \n",
       "3          Recommended   54.8   \n",
       "4          Recommended   35.6   \n",
       "...                ...    ...   \n",
       "53542  Not Recommended    1.1   \n",
       "53543  Not Recommended    0.2   \n",
       "53544  Not Recommended    1.1   \n",
       "53545  Not Recommended    1.1   \n",
       "53546  Not Recommended   14.1   \n",
       "\n",
       "                                                  review               date  \\\n",
       "0      Pretty good now, shame it took this long to ge...         27 January   \n",
       "1      surprisingly good! Shields are OP :) one hit k...         27 January   \n",
       "2      i got this game today, and played 5.5 hours st...         27 January   \n",
       "3      started out rough but the game has really turn...         27 January   \n",
       "4                                               Fun game         27 January   \n",
       "...                                                  ...                ...   \n",
       "53542                                                  👎  December 18, 2021   \n",
       "53543                                                mid  December 18, 2021   \n",
       "53544  trash...i wouldnt even pay 20 bucks for this ♥♥♥♥  December 18, 2021   \n",
       "53545                                             lol no  December 18, 2021   \n",
       "53546  The game is honestly really fun, the guns feel...  December 18, 2021   \n",
       "\n",
       "      Help     funny test  \n",
       "0                  0   27  \n",
       "1                  0   27  \n",
       "2                  0   27  \n",
       "3        1         0   27  \n",
       "4        1         0   27  \n",
       "...    ...       ...  ...  \n",
       "53542    2         0   18  \n",
       "53543              0   18  \n",
       "53544    1         0   18  \n",
       "53545              0   18  \n",
       "53546              0   18  \n",
       "\n",
       "[53547 rows x 9 columns]"
      ]
     },
     "execution_count": 102,
     "metadata": {},
     "output_type": "execute_result"
    }
   ],
   "source": [
    "BF"
   ]
  },
  {
   "cell_type": "code",
   "execution_count": 4,
   "id": "37d5b4d3",
   "metadata": {},
   "outputs": [],
   "source": [
    "BF['review']=BF.apply(lambda row: re.sub(\"\\t\",\"\",str(row['review'])),axis =1)"
   ]
  },
  {
   "cell_type": "code",
   "execution_count": 5,
   "id": "9508b0bf",
   "metadata": {},
   "outputs": [],
   "source": [
    "BF[[\"Help\",\"funny\"]]=BF[\"helpful\"].str.split(n=1,expand= True)"
   ]
  },
  {
   "cell_type": "code",
   "execution_count": 6,
   "id": "4878dbda",
   "metadata": {},
   "outputs": [],
   "source": [
    "BF['Help']=BF.apply(lambda row: re.sub(\"[A-z]\",\"\",str(row['Help'])),axis =1)"
   ]
  },
  {
   "cell_type": "code",
   "execution_count": 7,
   "id": "efaeb9c6",
   "metadata": {},
   "outputs": [],
   "source": [
    "BF['funny']=BF.apply(lambda row: re.sub(\"[A-z]\",\"\",str(row['funny'])),axis =1)"
   ]
  },
  {
   "cell_type": "code",
   "execution_count": 8,
   "id": "af27aa2a",
   "metadata": {},
   "outputs": [],
   "source": [
    "BF['hours']=BF.apply(lambda row: re.sub(\"[A-z]\",\"\",str(row['hours'])),axis =1)"
   ]
  },
  {
   "cell_type": "code",
   "execution_count": 9,
   "id": "85716393",
   "metadata": {},
   "outputs": [],
   "source": [
    "BF['hours']=BF.apply(lambda row: re.sub(\" \",\"\",str(row['hours'])),axis =1)"
   ]
  },
  {
   "cell_type": "code",
   "execution_count": 10,
   "id": "11c70857",
   "metadata": {},
   "outputs": [],
   "source": [
    "BF['hours']=BF.apply(lambda row: re.sub(\",\",\"\",str(row['hours'])),axis =1)"
   ]
  },
  {
   "cell_type": "code",
   "execution_count": 11,
   "id": "0ccdff8f",
   "metadata": {},
   "outputs": [],
   "source": [
    "BF[\"hours\"]=BF[\"hours\"].astype(\"float\")"
   ]
  },
  {
   "cell_type": "code",
   "execution_count": 12,
   "id": "de9a4b39",
   "metadata": {},
   "outputs": [
    {
     "data": {
      "text/plain": [
       "count    53547.000000\n",
       "mean        79.308611\n",
       "std        136.645217\n",
       "min          0.100000\n",
       "25%         12.400000\n",
       "50%         40.200000\n",
       "75%         93.950000\n",
       "max       7570.100000\n",
       "Name: hours, dtype: float64"
      ]
     },
     "execution_count": 12,
     "metadata": {},
     "output_type": "execute_result"
    }
   ],
   "source": [
    "BF[\"hours\"].describe()"
   ]
  },
  {
   "cell_type": "code",
   "execution_count": 13,
   "id": "c39a99db",
   "metadata": {},
   "outputs": [],
   "source": [
    "BF[\"date\"] = BF.apply(lambda row: re.sub(\"Posted: \",\"\",str(row[\"date\"])),axis =1)"
   ]
  },
  {
   "cell_type": "code",
   "execution_count": 119,
   "id": "c4e15e79",
   "metadata": {},
   "outputs": [
    {
     "data": {
      "text/plain": [
       "array(['January', 'December', 'November', 'October', 'September',\n",
       "       'August', 'July', 'June', 'May', 'April', 'March', 'February'],\n",
       "      dtype=object)"
      ]
     },
     "execution_count": 119,
     "metadata": {},
     "output_type": "execute_result"
    }
   ],
   "source": [
    "\n",
    "BF[\"Month\"]=BF.apply(lambda row : re.search(\"[A-z]+\", str(row[\"date\"])).group(),axis =1)\n",
    "BF[\"Month\"].unique()"
   ]
  },
  {
   "cell_type": "code",
   "execution_count": 120,
   "id": "b0cae4e1",
   "metadata": {},
   "outputs": [
    {
     "data": {
      "text/plain": [
       "array(['27', '26', '25', '24', '23', '22', '21', '20', '19', '18', '17',\n",
       "       '16', '15', '14', '13', '12', '11', '10', '9', '8', '7', '6', '5',\n",
       "       '4', '3', '2', '1', '31', '30', '29', '28'], dtype=object)"
      ]
     },
     "execution_count": 120,
     "metadata": {},
     "output_type": "execute_result"
    }
   ],
   "source": [
    "BF[\"Day\"]=BF.apply(lambda row : re.search(\"[0-9]+\", str(row[\"date\"])).group(),axis =1)\n",
    "BF[\"Day\"].unique()"
   ]
  },
  {
   "cell_type": "code",
   "execution_count": 125,
   "id": "6a45e160",
   "metadata": {},
   "outputs": [
    {
     "data": {
      "text/plain": [
       "array(['', '27', '26', '25', '24', '23', '22', '21', '20', '19', '18',\n",
       "       '17', '16', '15', '14', '13', '12', '11', '10', '9', '8', '7', '6',\n",
       "       '5', '4', '3', '2', '1', '2022', '2021'], dtype=object)"
      ]
     },
     "execution_count": 125,
     "metadata": {},
     "output_type": "execute_result"
    }
   ],
   "source": [
    "BF[\"Year\"]=BF.apply(lambda row : re.search(\"[0-9]*$\", str(row[\"date\"])).group(),axis =1)\n"
   ]
  },
  {
   "cell_type": "code",
   "execution_count": null,
   "id": "889a7faa",
   "metadata": {},
   "outputs": [],
   "source": []
  }
 ],
 "metadata": {
  "kernelspec": {
   "display_name": "Python 3 (ipykernel)",
   "language": "python",
   "name": "python3"
  },
  "language_info": {
   "codemirror_mode": {
    "name": "ipython",
    "version": 3
   },
   "file_extension": ".py",
   "mimetype": "text/x-python",
   "name": "python",
   "nbconvert_exporter": "python",
   "pygments_lexer": "ipython3",
   "version": "3.10.10"
  }
 },
 "nbformat": 4,
 "nbformat_minor": 5
}
